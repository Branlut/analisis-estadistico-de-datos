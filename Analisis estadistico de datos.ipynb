{
 "cells": [
  {
   "cell_type": "markdown",
   "metadata": {
    "id": "3rYiDeEH0q0f"
   },
   "source": [
    "# ¿Cuál es la mejor tarifa?\n",
    "\n",
    "Trabajas como analista para el operador de telecomunicaciones Megaline. La empresa ofrece a sus clientes dos tarifas de prepago, Surf y Ultimate. El departamento comercial quiere saber cuál de las tarifas genera más ingresos para poder ajustar el presupuesto de publicidad.\n",
    "\n",
    "Vas a realizar un análisis preliminar de las tarifas basado en una selección de clientes relativamente pequeña. Tendrás los datos de 500 clientes de Megaline: quiénes son los clientes, de dónde son, qué tarifa usan, así como la cantidad de llamadas que hicieron y los mensajes de texto que enviaron en 2018. Tu trabajo es analizar el comportamiento de los clientes y determinar qué tarifa de prepago genera más ingresos."
   ]
  },
  {
   "cell_type": "markdown",
   "metadata": {
    "id": "MQi4IPy70q0y"
   },
   "source": [
    "## Inicialización"
   ]
  },
  {
   "cell_type": "code",
   "execution_count": 1,
   "metadata": {
    "id": "MtYIuBxu0q0z"
   },
   "outputs": [],
   "source": [
    "# Cargar todas las librerías\n",
    "import pandas as pd\n",
    "import numpy as np\n",
    "import math as mt\n",
    "from matplotlib import pyplot as plt\n",
    "from scipy import stats as st\n"
   ]
  },
  {
   "cell_type": "markdown",
   "metadata": {
    "id": "4ysWWC5i0q00"
   },
   "source": [
    "## Cargar datos"
   ]
  },
  {
   "cell_type": "code",
   "execution_count": 2,
   "metadata": {
    "id": "CCqPW7rS0q01"
   },
   "outputs": [],
   "source": [
    "# Carga los archivos de datos en diferentes DataFrames\n",
    "\n",
    "df_users = pd.read_csv('/datasets/megaline_users.csv')\n",
    "df_calls = pd.read_csv('/datasets/megaline_calls.csv')\n",
    "df_messages = pd.read_csv('/datasets/megaline_messages.csv')\n",
    "df_internet = pd.read_csv('/datasets/megaline_internet.csv')\n",
    "df_plans = pd.read_csv('/datasets/megaline_plans.csv')"
   ]
  },
  {
   "cell_type": "markdown",
   "metadata": {
    "id": "69qqoJ3r0q01"
   },
   "source": [
    "## Preparar los datos"
   ]
  },
  {
   "cell_type": "markdown",
   "metadata": {
    "id": "vUuZw80S0q01"
   },
   "source": [
    "[Los datos para este proyecto se dividen en varias tablas. Explora cada una para tener una comprensión inicial de los datos. Si es necesario, haz las correcciones requeridas en cada tabla.]"
   ]
  },
  {
   "cell_type": "markdown",
   "metadata": {
    "id": "ohBhimvH0q01"
   },
   "source": [
    "## Tarifas"
   ]
  },
  {
   "cell_type": "code",
   "execution_count": 3,
   "metadata": {
    "id": "GptqP3Q40q02"
   },
   "outputs": [
    {
     "name": "stdout",
     "output_type": "stream",
     "text": [
      "<class 'pandas.core.frame.DataFrame'>\n",
      "RangeIndex: 2 entries, 0 to 1\n",
      "Data columns (total 8 columns):\n",
      " #   Column                 Non-Null Count  Dtype  \n",
      "---  ------                 --------------  -----  \n",
      " 0   messages_included      2 non-null      int64  \n",
      " 1   mb_per_month_included  2 non-null      int64  \n",
      " 2   minutes_included       2 non-null      int64  \n",
      " 3   usd_monthly_pay        2 non-null      int64  \n",
      " 4   usd_per_gb             2 non-null      int64  \n",
      " 5   usd_per_message        2 non-null      float64\n",
      " 6   usd_per_minute         2 non-null      float64\n",
      " 7   plan_name              2 non-null      object \n",
      "dtypes: float64(2), int64(5), object(1)\n",
      "memory usage: 256.0+ bytes\n"
     ]
    }
   ],
   "source": [
    "# Imprime la información general/resumida sobre el DataFrame de las tarifas\n",
    "df_plans.describe()\n",
    "df_plans.info()\n"
   ]
  },
  {
   "cell_type": "code",
   "execution_count": 4,
   "metadata": {
    "id": "64xzjwL70q02"
   },
   "outputs": [
    {
     "name": "stdout",
     "output_type": "stream",
     "text": [
      "   messages_included  mb_per_month_included  minutes_included  \\\n",
      "0                 50                  15360               500   \n",
      "1               1000                  30720              3000   \n",
      "\n",
      "   usd_monthly_pay  usd_per_gb  usd_per_message  usd_per_minute plan_name  \n",
      "0               20          10             0.03            0.03      surf  \n",
      "1               70           7             0.01            0.01  ultimate  \n"
     ]
    }
   ],
   "source": [
    "# Imprime una muestra de los datos para las tarifas\n",
    "print(df_plans)\n"
   ]
  },
  {
   "cell_type": "markdown",
   "metadata": {
    "id": "mEc_3_hs0q02"
   },
   "source": [
    "[Describe lo que ves y observas en la información general y en la muestra de datos impresa para el precio de datos anterior. ¿Hay algún problema (tipos de datos no adecuados, datos ausentes, etc.) que pudieran necesitar investigación y cambios adicionales? ¿Cómo se puede arreglar?]"
   ]
  },
  {
   "cell_type": "markdown",
   "metadata": {},
   "source": [
    "-La tabla o dataset correspondiente a las informacion de las tarifas contiene 8 columnas todas requeridas (non-null).\n",
    "-Las informacion parace consistente con respecto a los planes con su determinda tipo de datos int, float y object cuando corresponde.\n"
   ]
  },
  {
   "cell_type": "markdown",
   "metadata": {
    "id": "R3C05i1l0q03"
   },
   "source": [
    "## Corregir datos"
   ]
  },
  {
   "cell_type": "markdown",
   "metadata": {
    "id": "bIi8StZI0q03"
   },
   "source": [
    "[Corrige los problemas obvios con los datos basándote en las observaciones iniciales.]"
   ]
  },
  {
   "cell_type": "code",
   "execution_count": 5,
   "metadata": {
    "id": "Y7SVmjGn0q03"
   },
   "outputs": [
    {
     "name": "stdout",
     "output_type": "stream",
     "text": [
      "messages_included        0\n",
      "mb_per_month_included    0\n",
      "minutes_included         0\n",
      "usd_monthly_pay          0\n",
      "usd_per_gb               0\n",
      "usd_per_message          0\n",
      "usd_per_minute           0\n",
      "plan_name                0\n",
      "dtype: int64\n",
      "0\n"
     ]
    }
   ],
   "source": [
    "print(df_plans.isna().sum())\n",
    "print(df_plans.duplicated().sum())\n"
   ]
  },
  {
   "cell_type": "markdown",
   "metadata": {
    "id": "LJir7bml0q03"
   },
   "source": [
    "## Enriquecer los datos"
   ]
  },
  {
   "cell_type": "markdown",
   "metadata": {
    "id": "eqADpCfg0q04"
   },
   "source": [
    "[Agrega factores adicionales a los datos si crees que pudieran ser útiles.]"
   ]
  },
  {
   "cell_type": "markdown",
   "metadata": {},
   "source": [
    "-Se tiene que considerar que al momento de hacer los calculos para el ingreso mensual se tiene convertir de MB a GB para su redondodeo, los segundos a minutos ya que la compañia Magaline trabaja de esta manera"
   ]
  },
  {
   "cell_type": "markdown",
   "metadata": {
    "id": "1n2X6WXf0q04"
   },
   "source": [
    "## Usuarios/as"
   ]
  },
  {
   "cell_type": "code",
   "execution_count": 6,
   "metadata": {
    "id": "2NgjWFqx0q05"
   },
   "outputs": [
    {
     "name": "stdout",
     "output_type": "stream",
     "text": [
      "<class 'pandas.core.frame.DataFrame'>\n",
      "RangeIndex: 500 entries, 0 to 499\n",
      "Data columns (total 8 columns):\n",
      " #   Column      Non-Null Count  Dtype \n",
      "---  ------      --------------  ----- \n",
      " 0   user_id     500 non-null    int64 \n",
      " 1   first_name  500 non-null    object\n",
      " 2   last_name   500 non-null    object\n",
      " 3   age         500 non-null    int64 \n",
      " 4   city        500 non-null    object\n",
      " 5   reg_date    500 non-null    object\n",
      " 6   plan        500 non-null    object\n",
      " 7   churn_date  34 non-null     object\n",
      "dtypes: int64(2), object(6)\n",
      "memory usage: 31.4+ KB\n"
     ]
    }
   ],
   "source": [
    "# Imprime la información general/resumida sobre el DataFrame de usuarios\n",
    "\n",
    "df_users.info()"
   ]
  },
  {
   "cell_type": "code",
   "execution_count": 7,
   "metadata": {
    "id": "1IN1L9uh0q05"
   },
   "outputs": [
    {
     "name": "stdout",
     "output_type": "stream",
     "text": [
      "     user_id first_name   last_name  age  \\\n",
      "163     1163      Lanie  Washington   27   \n",
      "474     1474     Randee   Carpenter   26   \n",
      "22      1022         Bo        Snow   73   \n",
      "227     1227     Vanesa      Willis   29   \n",
      "381     1381     German      Burris   44   \n",
      "326     1326  Johnathon      Branch   21   \n",
      "55      1055    Patrick      Mclean   52   \n",
      "443     1443     Genaro       Quinn   58   \n",
      "478     1478      Elane       David   51   \n",
      "475     1475      Arlen      Sutton   66   \n",
      "\n",
      "                                          city    reg_date      plan  \\\n",
      "163     Los Angeles-Long Beach-Anaheim, CA MSA  2018-01-12  ultimate   \n",
      "474                        Bakersfield, CA MSA  2018-08-26      surf   \n",
      "22   New York-Newark-Jersey City, NY-NJ-PA MSA  2018-04-20      surf   \n",
      "227        Dallas-Fort Worth-Arlington, TX MSA  2018-01-17      surf   \n",
      "381       Austin-Round Rock-Georgetown, TX MSA  2018-08-30      surf   \n",
      "326              Greensboro-High Point, NC MSA  2018-02-06      surf   \n",
      "55     Portland-Vancouver-Hillsboro, OR-WA MSA  2018-01-13      surf   \n",
      "443      Atlanta-Sandy Springs-Roswell, GA MSA  2018-03-11      surf   \n",
      "478    Portland-Vancouver-Hillsboro, OR-WA MSA  2018-06-28  ultimate   \n",
      "475        Dallas-Fort Worth-Arlington, TX MSA  2018-05-28  ultimate   \n",
      "\n",
      "     churn_date  \n",
      "163         NaN  \n",
      "474         NaN  \n",
      "22   2018-09-07  \n",
      "227         NaN  \n",
      "381         NaN  \n",
      "326         NaN  \n",
      "55          NaN  \n",
      "443         NaN  \n",
      "478         NaN  \n",
      "475         NaN  \n"
     ]
    }
   ],
   "source": [
    "# Imprime una muestra de datos para usuarios\n",
    "print(df_users.sample(10))\n",
    "\n"
   ]
  },
  {
   "cell_type": "markdown",
   "metadata": {
    "id": "dCZoUq4f0q06"
   },
   "source": [
    "[Describe lo que ves y observas en la información general y en la muestra de datos impresa para el precio de datos anterior. ¿Hay algún problema (tipos de datos no adecuados, datos ausentes, etc.) que pudieran necesitar investigación y cambios adicionales? ¿Cómo se puede arreglar?]"
   ]
  },
  {
   "cell_type": "markdown",
   "metadata": {},
   "source": [
    "-El dataframe df_users cuenta con 500 registros\n",
    "\n",
    "-Tiene 8 columnas y todas son non-null es decir que son requeridas\n",
    "\n",
    "-La mayoria de las columnas tiene el tipo de datos correcto las que pueden tener un cambio son reg_date y talvez churn_date\n",
    "\n",
    "-Churn_date cuenta con 34 registros esto se debe a que los registros que estan nulos son las personas que todavia cuentan con un plan\n",
    "\n",
    "-Tanto el nombre y el apellido se podria combertir a todo mayusculos o minuculas para tener una comparacion de duplicados posteriormiente\n",
    "\n",
    "-Los nombres de las ciudades tiene como separador un guion y otros un espacio \n",
    "\n",
    "-La columna city cuenta con el nombre de la ciudad y el estado esto podria separar para que cada columna solo contenga informacion con respecto a su descripcion(nombre de columna)"
   ]
  },
  {
   "cell_type": "markdown",
   "metadata": {
    "id": "BX5FQh_I0q06"
   },
   "source": [
    "### Corregir los datos"
   ]
  },
  {
   "cell_type": "markdown",
   "metadata": {
    "id": "8OdKMwJv0q06"
   },
   "source": [
    "[Corrige los problemas obvios con los datos basándote en las observaciones iniciales.]"
   ]
  },
  {
   "cell_type": "code",
   "execution_count": 8,
   "metadata": {
    "id": "yUqX-K0C0q07"
   },
   "outputs": [
    {
     "name": "stdout",
     "output_type": "stream",
     "text": [
      "  user_id first_name  last_name  age                                  city  \\\n",
      "0    1000   ANAMARIA      BAUER   45  ATLANTA SANDY SPRINGS ROSWELL,GA MSA   \n",
      "1    1001     MICKEY  WILKERSON   28        SEATTLE TACOMA BELLEVUE,WA MSA   \n",
      "2    1002     CARLEE    HOFFMAN   36   LAS VEGAS HENDERSON PARADISE,NV MSA   \n",
      "3    1003   REYNALDO    JENKINS   52                          TULSA,OK MSA   \n",
      "4    1004    LEONILA   THOMPSON   40        SEATTLE TACOMA BELLEVUE,WA MSA   \n",
      "\n",
      "     reg_date      plan churn_date  \n",
      "0  2018-12-24  ultimate        NaN  \n",
      "1  2018-08-13      surf        NaN  \n",
      "2  2018-10-21      surf        NaN  \n",
      "3  2018-01-28      surf        NaN  \n",
      "4  2018-05-23      surf        NaN  \n",
      "user_id         0\n",
      "first_name      0\n",
      "last_name       0\n",
      "age             0\n",
      "city            0\n",
      "reg_date        0\n",
      "plan            0\n",
      "churn_date    466\n",
      "dtype: int64\n",
      "0\n"
     ]
    }
   ],
   "source": [
    "df_users['first_name'] = df_users['first_name'].str.upper()\n",
    "df_users['last_name'] = df_users['last_name'].str.upper()\n",
    "df_users['city'] = df_users['city'].str.replace('-', ' ')\n",
    "df_users['city'] = df_users['city'].str.replace(', ', ',')\n",
    "df_users['city'] = df_users['city'].str.upper()\n",
    "df_users['user_id'] = df_users['user_id'].astype(str)\n",
    "print(df_users.head())\n",
    "\n",
    "print(df_users.isna().sum())\n",
    "print(df_users.duplicated().sum())"
   ]
  },
  {
   "cell_type": "markdown",
   "metadata": {
    "id": "ycwuARJp0q07"
   },
   "source": [
    "### Enriquecer los datos"
   ]
  },
  {
   "cell_type": "markdown",
   "metadata": {
    "id": "96NIh4CJ0q08"
   },
   "source": [
    "[Agrega factores adicionales a los datos si crees que pudieran ser útiles.]"
   ]
  },
  {
   "cell_type": "code",
   "execution_count": 9,
   "metadata": {
    "id": "iq0AaBS90q08"
   },
   "outputs": [
    {
     "name": "stdout",
     "output_type": "stream",
     "text": [
      "  user_id first_name  last_name  age                           city  \\\n",
      "0    1000   ANAMARIA      BAUER   45  ATLANTA SANDY SPRINGS ROSWELL   \n",
      "1    1001     MICKEY  WILKERSON   28        SEATTLE TACOMA BELLEVUE   \n",
      "2    1002     CARLEE    HOFFMAN   36   LAS VEGAS HENDERSON PARADISE   \n",
      "3    1003   REYNALDO    JENKINS   52                          TULSA   \n",
      "4    1004    LEONILA   THOMPSON   40        SEATTLE TACOMA BELLEVUE   \n",
      "\n",
      "    reg_date      plan churn_date   state  \n",
      "0 2018-12-24  ultimate        NaN  GA MSA  \n",
      "1 2018-08-13      surf        NaN  WA MSA  \n",
      "2 2018-10-21      surf        NaN  NV MSA  \n",
      "3 2018-01-28      surf        NaN  OK MSA  \n",
      "4 2018-05-23      surf        NaN  WA MSA  \n",
      "<class 'pandas.core.frame.DataFrame'>\n",
      "RangeIndex: 500 entries, 0 to 499\n",
      "Data columns (total 9 columns):\n",
      " #   Column      Non-Null Count  Dtype         \n",
      "---  ------      --------------  -----         \n",
      " 0   user_id     500 non-null    object        \n",
      " 1   first_name  500 non-null    object        \n",
      " 2   last_name   500 non-null    object        \n",
      " 3   age         500 non-null    int64         \n",
      " 4   city        500 non-null    object        \n",
      " 5   reg_date    500 non-null    datetime64[ns]\n",
      " 6   plan        500 non-null    object        \n",
      " 7   churn_date  34 non-null     object        \n",
      " 8   state       500 non-null    object        \n",
      "dtypes: datetime64[ns](1), int64(1), object(7)\n",
      "memory usage: 35.3+ KB\n"
     ]
    }
   ],
   "source": [
    "df_users[['city','state']] = df_users['city'].str.split(',', expand=True)\n",
    "df_users['reg_date'] = pd.to_datetime(df_users['reg_date'], format=\"%Y-%m-%d\")\n",
    "print(df_users.head())\n",
    "df_users.info()\n"
   ]
  },
  {
   "cell_type": "markdown",
   "metadata": {
    "id": "o7MeKCid0q08"
   },
   "source": [
    "## Llamadas"
   ]
  },
  {
   "cell_type": "code",
   "execution_count": 10,
   "metadata": {
    "id": "6dDlnoDm0q08"
   },
   "outputs": [
    {
     "name": "stdout",
     "output_type": "stream",
     "text": [
      "<class 'pandas.core.frame.DataFrame'>\n",
      "RangeIndex: 137735 entries, 0 to 137734\n",
      "Data columns (total 4 columns):\n",
      " #   Column     Non-Null Count   Dtype  \n",
      "---  ------     --------------   -----  \n",
      " 0   id         137735 non-null  object \n",
      " 1   user_id    137735 non-null  int64  \n",
      " 2   call_date  137735 non-null  object \n",
      " 3   duration   137735 non-null  float64\n",
      "dtypes: float64(1), int64(1), object(2)\n",
      "memory usage: 4.2+ MB\n"
     ]
    }
   ],
   "source": [
    "# Imprime la información general/resumida sobre el DataFrame de las llamadas\n",
    "df_calls.info()\n"
   ]
  },
  {
   "cell_type": "code",
   "execution_count": 14,
   "metadata": {
    "id": "kuh1vlNB0q09"
   },
   "outputs": [
    {
     "name": "stdout",
     "output_type": "stream",
     "text": [
      "              id user_id  call_date  duration\n",
      "27971   1106_294    1106 2018-06-20     21.01\n",
      "84469   1311_293    1311 2018-07-06      3.92\n",
      "130975  1470_424    1470 2018-08-22      0.73\n",
      "66348   1240_206    1240 2018-11-17     17.09\n",
      "50660     1183_4    1183 2018-12-19      5.59\n",
      "93438   1334_806    1334 2018-04-09     11.21\n",
      "70196   1251_207    1251 2018-07-17     14.88\n",
      "54366   1196_249    1196 2018-10-16      0.29\n",
      "119950  1417_722    1417 2018-09-06     11.88\n",
      "2360    1009_782    1009 2018-12-09      7.83\n",
      "              id user_id  call_date  duration\n",
      "19        1001_4    1001 2018-12-05       0.0\n",
      "25       1001_13    1001 2018-12-24       0.0\n",
      "31       1001_30    1001 2018-10-17       0.0\n",
      "32       1001_31    1001 2018-11-03       0.0\n",
      "34       1001_35    1001 2018-12-21       0.0\n",
      "...          ...     ...        ...       ...\n",
      "137714  1499_183    1499 2018-11-10       0.0\n",
      "137715  1499_184    1499 2018-09-15       0.0\n",
      "137720  1499_189    1499 2018-12-27       0.0\n",
      "137722  1499_191    1499 2018-12-24       0.0\n",
      "137725  1499_194    1499 2018-10-31       0.0\n",
      "\n",
      "[26834 rows x 4 columns]\n"
     ]
    }
   ],
   "source": [
    "# Imprime una muestra de datos para las llamadas\n",
    "\n",
    "print(df_calls.sample(10))\n",
    "\n",
    "print(df_calls[df_calls['duration']==0.00])\n"
   ]
  },
  {
   "cell_type": "markdown",
   "metadata": {
    "id": "DOAxYJSx0q09"
   },
   "source": [
    "[Describe lo que ves y observas en la información general y en la muestra de datos impresa para el precio de datos anterior. ¿Hay algún problema (tipos de datos no adecuados, datos ausentes, etc.) que pudieran necesitar investigación y cambios adicionales? ¿Cómo se puede arreglar?]"
   ]
  },
  {
   "cell_type": "markdown",
   "metadata": {},
   "source": [
    "-El dataframe cuenta con 137735 registros y por lo que se observa no cuenta con ningun dato ausente\n",
    "\n",
    "-Cuenta con 4 columnas non-null\n",
    "\n",
    "-La columna user_id tiene un tipo de dato int lo cual no es necesario ya que no se realizar ningun calculo ademas de sumar usuarios si es que se requiere\n",
    "\n",
    "-La columna call_date esta como un tipo de dato object el cual se puede cambiar a datetime si se quiere realizar algunos analisis con esto\n",
    "\n",
    "-Hay registros con duracion 0 lo que puede indicar error en los regitros, una llamada fallida o una llamada que colgo inmediatamente al momento de llamar dejando ese registro pero ya que se registro como una llamada este valor se redondiara a 1"
   ]
  },
  {
   "cell_type": "markdown",
   "metadata": {
    "id": "S7hzxmbX0q0-"
   },
   "source": [
    "### Corregir los datos"
   ]
  },
  {
   "cell_type": "markdown",
   "metadata": {
    "id": "YxWyAjD20q0-"
   },
   "source": [
    "[Corrige los problemas obvios con los datos basándote en las observaciones iniciales.]"
   ]
  },
  {
   "cell_type": "code",
   "execution_count": 12,
   "metadata": {
    "id": "S2r8xA4f0q0-"
   },
   "outputs": [
    {
     "name": "stdout",
     "output_type": "stream",
     "text": [
      "id           0\n",
      "user_id      0\n",
      "call_date    0\n",
      "duration     0\n",
      "dtype: int64\n",
      "0\n"
     ]
    }
   ],
   "source": [
    "print(df_calls.isna().sum())\n",
    "print(df_calls.duplicated().sum())\n",
    "\n"
   ]
  },
  {
   "cell_type": "markdown",
   "metadata": {
    "id": "KrMgTrlG0q0_"
   },
   "source": [
    "### Enriquecer los datos"
   ]
  },
  {
   "cell_type": "markdown",
   "metadata": {
    "id": "a9MbmEvE0q0_"
   },
   "source": [
    "[Agrega factores adicionales a los datos si crees que pudieran ser útiles.]"
   ]
  },
  {
   "cell_type": "code",
   "execution_count": 19,
   "metadata": {
    "id": "iZ1avpA_0q0_"
   },
   "outputs": [
    {
     "name": "stdout",
     "output_type": "stream",
     "text": [
      "<class 'pandas.core.frame.DataFrame'>\n",
      "RangeIndex: 137735 entries, 0 to 137734\n",
      "Data columns (total 4 columns):\n",
      " #   Column     Non-Null Count   Dtype         \n",
      "---  ------     --------------   -----         \n",
      " 0   id         137735 non-null  object        \n",
      " 1   user_id    137735 non-null  object        \n",
      " 2   call_date  137735 non-null  datetime64[ns]\n",
      " 3   duration   137735 non-null  int64         \n",
      "dtypes: datetime64[ns](1), int64(1), object(2)\n",
      "memory usage: 4.2+ MB\n",
      "         id user_id  call_date  duration\n",
      "0   1000_93    1000 2018-12-27         9\n",
      "1  1000_145    1000 2018-12-27        14\n",
      "2  1000_247    1000 2018-12-27        15\n",
      "3  1000_309    1000 2018-12-28         6\n",
      "4  1000_380    1000 2018-12-30         5\n"
     ]
    }
   ],
   "source": [
    "df_calls['call_date'] = pd.to_datetime(df_calls['call_date'], format=\"%Y-%m-%d\")\n",
    "df_calls['user_id'] = df_calls['user_id'].astype(str)\n",
    "df_calls.info()\n",
    "df_calls['duration'] = df_calls['duration'].replace(0, 1)\n",
    "df_calls['duration'] = df_calls['duration'].apply(mt.ceil)\n",
    "print(df_calls.head())\n"
   ]
  },
  {
   "cell_type": "markdown",
   "metadata": {
    "id": "mOUZSi180q0_"
   },
   "source": [
    "## Mensajes"
   ]
  },
  {
   "cell_type": "code",
   "execution_count": 20,
   "metadata": {
    "id": "R-bYJpdV0q1A"
   },
   "outputs": [
    {
     "name": "stdout",
     "output_type": "stream",
     "text": [
      "<class 'pandas.core.frame.DataFrame'>\n",
      "RangeIndex: 76051 entries, 0 to 76050\n",
      "Data columns (total 3 columns):\n",
      " #   Column        Non-Null Count  Dtype \n",
      "---  ------        --------------  ----- \n",
      " 0   id            76051 non-null  object\n",
      " 1   user_id       76051 non-null  int64 \n",
      " 2   message_date  76051 non-null  object\n",
      "dtypes: int64(1), object(2)\n",
      "memory usage: 1.7+ MB\n"
     ]
    }
   ],
   "source": [
    "# Imprime la información general/resumida sobre el DataFrame de los mensajes\n",
    "df_messages.info()\n"
   ]
  },
  {
   "cell_type": "code",
   "execution_count": 21,
   "metadata": {
    "id": "mCEl2iGE0q1A"
   },
   "outputs": [
    {
     "name": "stdout",
     "output_type": "stream",
     "text": [
      "              id  user_id message_date\n",
      "48325  1324_1059     1324   2018-08-30\n",
      "36908    1247_72     1247   2018-10-03\n",
      "51577   1335_167     1335   2018-12-27\n",
      "72357    1469_15     1469   2018-12-28\n",
      "49145   1328_103     1328   2018-09-26\n",
      "47116   1320_360     1320   2018-11-11\n",
      "45178    1303_97     1303   2018-12-23\n",
      "62793    1396_77     1396   2018-11-12\n",
      "10691  1076_1565     1076   2018-12-12\n",
      "34509    1220_10     1220   2018-08-29\n"
     ]
    }
   ],
   "source": [
    "# Imprime una muestra de datos para los mensajes\n",
    "\n",
    "print(df_messages.sample(10))\n",
    "\n"
   ]
  },
  {
   "cell_type": "markdown",
   "metadata": {
    "id": "04xDj7KH0q1A"
   },
   "source": [
    "[Describe lo que ves y observas en la información general y en la muestra de datos impresa para el precio de datos anterior. ¿Hay algún problema (tipos de datos no adecuados, datos ausentes, etc.) que pudieran necesitar investigación y cambios adicionales? ¿Cómo se puede arreglar?]"
   ]
  },
  {
   "cell_type": "markdown",
   "metadata": {},
   "source": [
    "-El dataframe cuenta con 76051 y por lo obsevado no tiene registros nulos\n",
    "\n",
    "-Cuenta con 3 columnas\n",
    "\n",
    "-La columna message_date es tipo object la cual se puede cambiar a datetime para realizar un analisis si es requerido\n",
    "\n",
    "-La columna user_id es tipo int lo cual no es necesario por que requerie realizar calculos complejos a excepcion de sumar cierta cantidad usuarios(sumar la cantida no el valor que representa la id)"
   ]
  },
  {
   "cell_type": "markdown",
   "metadata": {
    "id": "Sprfak900q1B"
   },
   "source": [
    "### Corregir los datos"
   ]
  },
  {
   "cell_type": "markdown",
   "metadata": {
    "id": "eGw7d9j10q1B"
   },
   "source": [
    "[Corrige los problemas obvios con los datos basándote en las observaciones iniciales.]"
   ]
  },
  {
   "cell_type": "code",
   "execution_count": 22,
   "metadata": {
    "id": "vsllvkoa0q1B"
   },
   "outputs": [
    {
     "name": "stdout",
     "output_type": "stream",
     "text": [
      "id              0\n",
      "user_id         0\n",
      "message_date    0\n",
      "dtype: int64\n",
      "0\n"
     ]
    }
   ],
   "source": [
    "print(df_messages.isna().sum())\n",
    "print(df_messages.duplicated().sum())"
   ]
  },
  {
   "cell_type": "markdown",
   "metadata": {
    "id": "HvLid7iD0q1B"
   },
   "source": [
    "### Enriquecer los datos"
   ]
  },
  {
   "cell_type": "markdown",
   "metadata": {
    "id": "8nhPFKIe0q1C"
   },
   "source": [
    "[Agrega factores adicionales a los datos si crees que pudieran ser útiles.]"
   ]
  },
  {
   "cell_type": "code",
   "execution_count": 23,
   "metadata": {
    "id": "zYEXZac10q1C"
   },
   "outputs": [
    {
     "name": "stdout",
     "output_type": "stream",
     "text": [
      "<class 'pandas.core.frame.DataFrame'>\n",
      "RangeIndex: 76051 entries, 0 to 76050\n",
      "Data columns (total 3 columns):\n",
      " #   Column        Non-Null Count  Dtype         \n",
      "---  ------        --------------  -----         \n",
      " 0   id            76051 non-null  object        \n",
      " 1   user_id       76051 non-null  object        \n",
      " 2   message_date  76051 non-null  datetime64[ns]\n",
      "dtypes: datetime64[ns](1), object(2)\n",
      "memory usage: 1.7+ MB\n"
     ]
    }
   ],
   "source": [
    "df_messages['message_date'] = pd.to_datetime(df_messages['message_date'], format=\"%Y-%m-%d\")\n",
    "df_messages['user_id'] = df_messages['user_id'].astype(str)\n",
    "\n",
    "df_messages.info()"
   ]
  },
  {
   "cell_type": "markdown",
   "metadata": {
    "id": "bStkaxn40q1C"
   },
   "source": [
    "## Internet"
   ]
  },
  {
   "cell_type": "code",
   "execution_count": 24,
   "metadata": {
    "id": "e-Uz5qyn0q1C"
   },
   "outputs": [
    {
     "name": "stdout",
     "output_type": "stream",
     "text": [
      "<class 'pandas.core.frame.DataFrame'>\n",
      "RangeIndex: 104825 entries, 0 to 104824\n",
      "Data columns (total 4 columns):\n",
      " #   Column        Non-Null Count   Dtype  \n",
      "---  ------        --------------   -----  \n",
      " 0   id            104825 non-null  object \n",
      " 1   user_id       104825 non-null  int64  \n",
      " 2   session_date  104825 non-null  object \n",
      " 3   mb_used       104825 non-null  float64\n",
      "dtypes: float64(1), int64(1), object(2)\n",
      "memory usage: 3.2+ MB\n"
     ]
    }
   ],
   "source": [
    "# Imprime la información general/resumida sobre el DataFrame de internet\n",
    "df_internet.info()\n"
   ]
  },
  {
   "cell_type": "code",
   "execution_count": 25,
   "metadata": {
    "id": "9r3x_XLw0q1C"
   },
   "outputs": [
    {
     "name": "stdout",
     "output_type": "stream",
     "text": [
      "             id  user_id session_date  mb_used\n",
      "85314   1398_64     1398   2018-11-29    66.08\n",
      "38721  1173_291     1173   2018-11-16   295.16\n",
      "14699    1067_1     1067   2018-10-19   262.64\n",
      "46271   1205_86     1205   2018-11-30   262.16\n",
      "32978  1148_130     1148   2018-11-25    64.94\n",
      "20571  1095_247     1095   2018-11-13   185.18\n",
      "82333   1385_84     1385   2018-07-02  1168.38\n",
      "93585  1436_367     1436   2018-08-27   435.77\n",
      "25963   1121_56     1121   2018-12-15   215.76\n",
      "45319  1201_181     1201   2018-11-23   597.75\n"
     ]
    }
   ],
   "source": [
    "# Imprime una muestra de datos para el tráfico de internet\n",
    "print(df_internet.sample(10))\n"
   ]
  },
  {
   "cell_type": "markdown",
   "metadata": {
    "id": "EzOG5ik30q1D"
   },
   "source": [
    "[Describe lo que ves y observas en la información general y en la muestra de datos impresa para el precio de datos anterior. ¿Hay algún problema (tipos de datos no adecuados, datos ausentes, etc.) que pudieran necesitar investigación y cambios adicionales? ¿Cómo se puede arreglar?]"
   ]
  },
  {
   "cell_type": "markdown",
   "metadata": {},
   "source": [
    "-El dataframe cuenta 104825 y por lo observado no cuenta con registros nulos\n",
    "\n",
    "-Cuenta con 4 columnas\n",
    "\n",
    "-La columna user_id tiene un tipo de dato int lo cual se puede combertir a object mejor ya que se realizan calculos complejos con este\n",
    "\n",
    "-La columna session_date tiene un tipo de formato object pero se puede cambiar a datetime para realizar alguna analisis posteriormente"
   ]
  },
  {
   "cell_type": "markdown",
   "metadata": {
    "id": "yA0tkPFg0q1D"
   },
   "source": [
    "### Corregir los datos"
   ]
  },
  {
   "cell_type": "markdown",
   "metadata": {
    "id": "zlZMuIEK0q1D"
   },
   "source": [
    "[Corrige los problemas obvios con los datos basándote en las observaciones iniciales.]"
   ]
  },
  {
   "cell_type": "code",
   "execution_count": 26,
   "metadata": {
    "id": "zVeanzdd0q1E"
   },
   "outputs": [
    {
     "name": "stdout",
     "output_type": "stream",
     "text": [
      "id              0\n",
      "user_id         0\n",
      "session_date    0\n",
      "mb_used         0\n",
      "dtype: int64\n",
      "0\n"
     ]
    }
   ],
   "source": [
    "print(df_internet.isna().sum())\n",
    "print(df_internet.duplicated().sum())"
   ]
  },
  {
   "cell_type": "markdown",
   "metadata": {
    "id": "e8_mLF4a0q1E"
   },
   "source": [
    "### Enriquecer los datos"
   ]
  },
  {
   "cell_type": "markdown",
   "metadata": {
    "id": "xhNdn2tE0q1E"
   },
   "source": [
    "[Agrega factores adicionales a los datos si crees que pudieran ser útiles.]"
   ]
  },
  {
   "cell_type": "code",
   "execution_count": 27,
   "metadata": {
    "id": "ESiYPIEK0q1E"
   },
   "outputs": [
    {
     "name": "stdout",
     "output_type": "stream",
     "text": [
      "<class 'pandas.core.frame.DataFrame'>\n",
      "RangeIndex: 104825 entries, 0 to 104824\n",
      "Data columns (total 4 columns):\n",
      " #   Column        Non-Null Count   Dtype         \n",
      "---  ------        --------------   -----         \n",
      " 0   id            104825 non-null  object        \n",
      " 1   user_id       104825 non-null  object        \n",
      " 2   session_date  104825 non-null  datetime64[ns]\n",
      " 3   mb_used       104825 non-null  float64       \n",
      "dtypes: datetime64[ns](1), float64(1), object(2)\n",
      "memory usage: 3.2+ MB\n"
     ]
    }
   ],
   "source": [
    "df_internet['session_date'] = pd.to_datetime(df_internet['session_date'], format=\"%Y-%m-%d\")\n",
    "df_internet['user_id'] = df_internet['user_id'].astype(str)\n",
    "\n",
    "df_internet.info()"
   ]
  },
  {
   "cell_type": "markdown",
   "metadata": {
    "id": "3UA2cqIW0q1E"
   },
   "source": [
    "## Estudiar las condiciones de las tarifas"
   ]
  },
  {
   "cell_type": "markdown",
   "metadata": {
    "id": "T86Sqltq0q1F"
   },
   "source": [
    "[Es sumamente importante entender cómo funcionan las tarifas, cómo se les cobra a los usuarios en función de su plan de suscripción. Así que te sugerimos imprimir la información de la tarifa para ver una vez más sus condiciones.]"
   ]
  },
  {
   "cell_type": "code",
   "execution_count": 28,
   "metadata": {
    "id": "i409op8p0q1F"
   },
   "outputs": [
    {
     "name": "stdout",
     "output_type": "stream",
     "text": [
      "   messages_included  mb_per_month_included  minutes_included  \\\n",
      "0                 50                  15360               500   \n",
      "1               1000                  30720              3000   \n",
      "\n",
      "   usd_monthly_pay  usd_per_gb  usd_per_message  usd_per_minute plan_name  \n",
      "0               20          10             0.03            0.03      surf  \n",
      "1               70           7             0.01            0.01  ultimate  \n"
     ]
    }
   ],
   "source": [
    "# Imprime las condiciones de la tarifa y asegúrate de que te quedan claras\n",
    "\n",
    "print(df_plans)"
   ]
  },
  {
   "cell_type": "markdown",
   "metadata": {
    "id": "hMR1tP5d0q1F"
   },
   "source": [
    "## Agregar datos por usuario\n",
    "\n",
    "[Ahora que los datos están limpios, agrega los datos por usuario y por periodo para que solo haya un registro por usuario y por periodo. Esto facilitará mucho el análisis posterior.]"
   ]
  },
  {
   "cell_type": "code",
   "execution_count": 29,
   "metadata": {
    "id": "A332cedB0q1G"
   },
   "outputs": [
    {
     "name": "stdout",
     "output_type": "stream",
     "text": [
      "     user_id  mes  num_call\n",
      "0       1000   12        16\n",
      "1       1001    8        27\n",
      "2       1001    9        49\n",
      "3       1001   10        65\n",
      "4       1001   11        64\n",
      "...      ...  ...       ...\n",
      "2253    1498   12        39\n",
      "2254    1499    9        41\n",
      "2255    1499   10        53\n",
      "2256    1499   11        45\n",
      "2257    1499   12        65\n",
      "\n",
      "[2258 rows x 3 columns]\n",
      "12    460\n",
      "11    403\n",
      "10    337\n",
      "9     277\n",
      "8     230\n",
      "7     179\n",
      "6     141\n",
      "5     104\n",
      "4      71\n",
      "3      35\n",
      "2      15\n",
      "1       6\n",
      "Name: mes, dtype: int64\n"
     ]
    }
   ],
   "source": [
    "# Calcula el número de llamadas hechas por cada usuario al mes. Guarda el resultado.\n",
    "\n",
    "df_calls['mes'] = df_calls['call_date'].dt.month\n",
    "df_cal_llamadas = df_calls.groupby(['user_id','mes'])['mes'].count().reset_index(name='num_call')\n",
    "print(df_cal_llamadas)\n",
    "print(df_cal_llamadas['mes'].value_counts())\n",
    "\n"
   ]
  },
  {
   "cell_type": "code",
   "execution_count": 30,
   "metadata": {
    "id": "aw2cmuql0q1G"
   },
   "outputs": [
    {
     "name": "stdout",
     "output_type": "stream",
     "text": [
      "     user_id  mes  total_dura\n",
      "0       1000   12         124\n",
      "1       1001    8         187\n",
      "2       1001    9         326\n",
      "3       1001   10         411\n",
      "4       1001   11         441\n",
      "...      ...  ...         ...\n",
      "2253    1498   12         346\n",
      "2254    1499    9         352\n",
      "2255    1499   10         397\n",
      "2256    1499   11         314\n",
      "2257    1499   12         505\n",
      "\n",
      "[2258 rows x 3 columns]\n"
     ]
    }
   ],
   "source": [
    "# Calcula la cantidad de minutos usados por cada usuario al mes. Guarda el resultado.\n",
    "\n",
    "df_minutos = df_calls.groupby(['user_id','mes'])['duration'].sum().reset_index(name='total_dura')\n",
    "print(df_minutos)"
   ]
  },
  {
   "cell_type": "code",
   "execution_count": 31,
   "metadata": {
    "id": "CcQvNHn60q1G"
   },
   "outputs": [
    {
     "name": "stdout",
     "output_type": "stream",
     "text": [
      "     user_id  mes  cant_messa\n",
      "0       1000   12          11\n",
      "1       1001    8          30\n",
      "2       1001    9          44\n",
      "3       1001   10          53\n",
      "4       1001   11          36\n",
      "...      ...  ...         ...\n",
      "1801    1496    9          21\n",
      "1802    1496   10          18\n",
      "1803    1496   11          13\n",
      "1804    1496   12          11\n",
      "1805    1497   12          50\n",
      "\n",
      "[1806 rows x 3 columns]\n",
      "          id user_id message_date  mes\n",
      "0   1000_125    1000   2018-12-27   12\n",
      "1   1000_160    1000   2018-12-31   12\n",
      "2   1000_223    1000   2018-12-31   12\n",
      "3   1000_251    1000   2018-12-27   12\n",
      "4   1000_255    1000   2018-12-26   12\n",
      "5   1000_346    1000   2018-12-29   12\n",
      "6   1000_386    1000   2018-12-30   12\n",
      "7   1000_413    1000   2018-12-31   12\n",
      "8   1000_502    1000   2018-12-27   12\n",
      "9   1000_525    1000   2018-12-28   12\n",
      "10  1000_567    1000   2018-12-25   12\n"
     ]
    }
   ],
   "source": [
    "# Calcula el número de mensajes enviados por cada usuario al mes. Guarda el resultado.\n",
    "df_messages['mes'] = df_messages['message_date'].dt.month\n",
    "\n",
    "df_cal_mensajes = df_messages.groupby(['user_id','mes'])['mes'].count().reset_index(name='cant_messa')\n",
    "print(df_cal_mensajes)\n",
    "print(df_messages[df_messages['user_id']=='1000'])"
   ]
  },
  {
   "cell_type": "code",
   "execution_count": 32,
   "metadata": {
    "id": "H1AqN2eG0q1H"
   },
   "outputs": [
    {
     "name": "stdout",
     "output_type": "stream",
     "text": [
      "     user_id  mes  cant_trafic\n",
      "0       1000   12            2\n",
      "1       1001    8            7\n",
      "2       1001    9           14\n",
      "3       1001   10           22\n",
      "4       1001   11           19\n",
      "...      ...  ...          ...\n",
      "2272    1498   12           23\n",
      "2273    1499    9           13\n",
      "2274    1499   10           20\n",
      "2275    1499   11           17\n",
      "2276    1499   12           22\n",
      "\n",
      "[2277 rows x 3 columns]\n"
     ]
    }
   ],
   "source": [
    "# Calcula el volumen del tráfico de Internet usado por cada usuario al mes. Guarda el resultado.\n",
    "df_internet['mes'] = df_internet['session_date'].dt.month\n",
    "\n",
    "df_cal_trafico = df_internet.groupby(['user_id','mes'])['mb_used'].sum().reset_index(name='cant_trafic')\n",
    "df_cal_trafico['cant_trafic'] = (df_cal_trafico['cant_trafic']/1024).apply(mt.ceil) \n",
    "print(df_cal_trafico)"
   ]
  },
  {
   "cell_type": "markdown",
   "metadata": {
    "id": "VDfYXnj80q1H"
   },
   "source": [
    "[Junta los datos agregados en un DataFrame para que haya un registro que represente lo que consumió un usuario único en un mes determinado.]"
   ]
  },
  {
   "cell_type": "code",
   "execution_count": 33,
   "metadata": {
    "id": "FW99ykyf0q1H"
   },
   "outputs": [
    {
     "name": "stdout",
     "output_type": "stream",
     "text": [
      "     user_id  mes  num_call  total_dura  cant_messa  cant_trafic\n",
      "0       1000   12      16.0       124.0        11.0          2.0\n",
      "1       1001    8      27.0       187.0        30.0          7.0\n",
      "2       1001    9      49.0       326.0        44.0         14.0\n",
      "3       1001   10      65.0       411.0        53.0         22.0\n",
      "4       1001   11      64.0       441.0        36.0         19.0\n",
      "...      ...  ...       ...         ...         ...          ...\n",
      "2288    1349   12       NaN         NaN        61.0         13.0\n",
      "2289    1361    5       NaN         NaN         2.0          2.0\n",
      "2290    1482   10       NaN         NaN         2.0          NaN\n",
      "2291    1108   12       NaN         NaN         NaN          1.0\n",
      "2292    1311    6       NaN         NaN         NaN          2.0\n",
      "\n",
      "[2293 rows x 6 columns]\n"
     ]
    }
   ],
   "source": [
    "# Fusiona los datos de llamadas, minutos, mensajes e Internet con base en user_id y month\n",
    "df_merge_datos = df_cal_llamadas.merge(df_minutos, on= ['user_id','mes'], how='outer' )\n",
    "df_merge_datos = df_merge_datos.merge(df_cal_mensajes, on= ['user_id','mes'], how='outer') \n",
    "df_merge_datos = df_merge_datos.merge(df_cal_trafico, on= ['user_id','mes'], how='outer') \n",
    "print(df_merge_datos)\n",
    "\n"
   ]
  },
  {
   "cell_type": "code",
   "execution_count": 34,
   "metadata": {
    "id": "0dNOXHag0q1H"
   },
   "outputs": [
    {
     "name": "stdout",
     "output_type": "stream",
     "text": [
      "     user_id  mes  num_call  total_dura  cant_messa  cant_trafic      plan  \\\n",
      "0       1000   12        16       124.0          11          2.0  ultimate   \n",
      "1       1001    8        27       187.0          30          7.0      surf   \n",
      "2       1001    9        49       326.0          44         14.0      surf   \n",
      "3       1001   10        65       411.0          53         22.0      surf   \n",
      "4       1001   11        64       441.0          36         19.0      surf   \n",
      "...      ...  ...       ...         ...         ...          ...       ...   \n",
      "2288    1349   12         0         0.0          61         13.0      surf   \n",
      "2289    1361    5         0         0.0           2          2.0      surf   \n",
      "2290    1482   10         0         0.0           2          0.0  ultimate   \n",
      "2291    1108   12         0         0.0           0          1.0  ultimate   \n",
      "2292    1311    6         0         0.0           0          2.0  ultimate   \n",
      "\n",
      "      messages_included  mb_per_month_included  minutes_included  \\\n",
      "0                  1000                  30720              3000   \n",
      "1                    50                  15360               500   \n",
      "2                    50                  15360               500   \n",
      "3                    50                  15360               500   \n",
      "4                    50                  15360               500   \n",
      "...                 ...                    ...               ...   \n",
      "2288                 50                  15360               500   \n",
      "2289                 50                  15360               500   \n",
      "2290               1000                  30720              3000   \n",
      "2291               1000                  30720              3000   \n",
      "2292               1000                  30720              3000   \n",
      "\n",
      "      usd_monthly_pay  usd_per_gb  usd_per_message  usd_per_minute  \n",
      "0                  70           7             0.01            0.01  \n",
      "1                  20          10             0.03            0.03  \n",
      "2                  20          10             0.03            0.03  \n",
      "3                  20          10             0.03            0.03  \n",
      "4                  20          10             0.03            0.03  \n",
      "...               ...         ...              ...             ...  \n",
      "2288               20          10             0.03            0.03  \n",
      "2289               20          10             0.03            0.03  \n",
      "2290               70           7             0.01            0.01  \n",
      "2291               70           7             0.01            0.01  \n",
      "2292               70           7             0.01            0.01  \n",
      "\n",
      "[2293 rows x 14 columns]\n"
     ]
    }
   ],
   "source": [
    "# Añade la información de la tarifa\n",
    "#Cambie los valores NaN a 0 para trabajar mas comodamente los calculos\n",
    "df_filtro_plan = df_users[['user_id','plan']]\n",
    "df_tarifa = df_filtro_plan.merge(df_plans,left_on='plan', right_on='plan_name', how='left' )\n",
    "\n",
    "df_merge_datos_1 = df_merge_datos.merge(df_tarifa,on='user_id', how='left')\n",
    "\n",
    "df_merge_datos_1 = df_merge_datos_1.drop(columns=['plan_name'])\n",
    "df_merge_datos_1 = df_merge_datos_1.fillna(0)\n",
    "\n",
    "\n",
    "df_merge_datos_1['num_call'] = df_merge_datos_1['num_call'].astype(int)\n",
    "df_merge_datos_1['cant_messa'] = df_merge_datos_1['cant_messa'].astype(int)\n",
    "df_merge_datos_1['mes'] = df_merge_datos_1['mes'].astype(int)\n",
    "print(df_merge_datos_1)\n",
    "\n"
   ]
  },
  {
   "cell_type": "markdown",
   "metadata": {
    "id": "1IwGo4wg0q1I"
   },
   "source": [
    "[Calcula los ingresos mensuales por usuario (resta el límite del paquete gratuito del número total de llamadas, mensajes de texto y datos; multiplica el resultado por el valor del plan de llamadas; añade la tarifa mensual en función del plan de llamadas). Nota: Dadas las condiciones del plan, ¡esto podría no ser tan trivial como un par de líneas! Así que no pasa nada si dedicas algo de tiempo a ello.]"
   ]
  },
  {
   "cell_type": "code",
   "execution_count": 51,
   "metadata": {
    "id": "5FGCf_c60q1I"
   },
   "outputs": [
    {
     "name": "stdout",
     "output_type": "stream",
     "text": [
      "     user_id  mes  num_call  total_dura  cant_messa  cant_trafic      plan  \\\n",
      "0       1000   12        16       124.0          11          2.0  ultimate   \n",
      "1       1001    8        27       187.0          30          7.0      surf   \n",
      "2       1001    9        49       326.0          44         14.0      surf   \n",
      "3       1001   10        65       411.0          53         22.0      surf   \n",
      "4       1001   11        64       441.0          36         19.0      surf   \n",
      "...      ...  ...       ...         ...         ...          ...       ...   \n",
      "2288    1349   12         0         0.0          61         13.0      surf   \n",
      "2289    1361    5         0         0.0           2          2.0      surf   \n",
      "2290    1482   10         0         0.0           2          0.0  ultimate   \n",
      "2291    1108   12         0         0.0           0          1.0  ultimate   \n",
      "2292    1311    6         0         0.0           0          2.0  ultimate   \n",
      "\n",
      "      messages_included  mb_per_month_included  minutes_included  ...  \\\n",
      "0                  1000                  30720              3000  ...   \n",
      "1                    50                  15360               500  ...   \n",
      "2                    50                  15360               500  ...   \n",
      "3                    50                  15360               500  ...   \n",
      "4                    50                  15360               500  ...   \n",
      "...                 ...                    ...               ...  ...   \n",
      "2288                 50                  15360               500  ...   \n",
      "2289                 50                  15360               500  ...   \n",
      "2290               1000                  30720              3000  ...   \n",
      "2291               1000                  30720              3000  ...   \n",
      "2292               1000                  30720              3000  ...   \n",
      "\n",
      "      usd_per_gb  usd_per_message  usd_per_minute  ext_call  ext_messa  \\\n",
      "0              7             0.01            0.01    2876.0        989   \n",
      "1             10             0.03            0.03     313.0         20   \n",
      "2             10             0.03            0.03     174.0          6   \n",
      "3             10             0.03            0.03      89.0         -3   \n",
      "4             10             0.03            0.03      59.0         14   \n",
      "...          ...              ...             ...       ...        ...   \n",
      "2288          10             0.03            0.03     500.0        -11   \n",
      "2289          10             0.03            0.03     500.0         48   \n",
      "2290           7             0.01            0.01    3000.0        998   \n",
      "2291           7             0.01            0.01    3000.0       1000   \n",
      "2292           7             0.01            0.01    3000.0       1000   \n",
      "\n",
      "      ext_trafic  cox_call  cox_messa  cox_trafic  ingreso_men  \n",
      "0           28.0       0.0       0.00         0.0        70.00  \n",
      "1            8.0       0.0       0.00         0.0        20.00  \n",
      "2            1.0       0.0       0.00         0.0        20.00  \n",
      "3           -7.0       0.0       0.09        70.0        90.09  \n",
      "4           -4.0       0.0       0.00        40.0        60.00  \n",
      "...          ...       ...        ...         ...          ...  \n",
      "2288         2.0       0.0       0.33         0.0        20.33  \n",
      "2289        13.0       0.0       0.00         0.0        20.00  \n",
      "2290        30.0       0.0       0.00         0.0        70.00  \n",
      "2291        29.0       0.0       0.00         0.0        70.00  \n",
      "2292        28.0       0.0       0.00         0.0        70.00  \n",
      "\n",
      "[2293 rows x 21 columns]\n"
     ]
    },
    {
     "data": {
      "text/plain": [
       "surf        1573\n",
       "ultimate     720\n",
       "Name: plan, dtype: int64"
      ]
     },
     "execution_count": 51,
     "metadata": {},
     "output_type": "execute_result"
    }
   ],
   "source": [
    "# Calcula el ingreso mensual para cada usuario\n",
    "df_merge_datos_1['ext_call'] = df_merge_datos_1['minutes_included'] - df_merge_datos_1['total_dura']\n",
    "df_merge_datos_1['ext_messa'] = df_merge_datos_1['messages_included'] - df_merge_datos_1['cant_messa']\n",
    "df_merge_datos_1['ext_trafic'] = (df_merge_datos_1['mb_per_month_included']/1024) - df_merge_datos_1['cant_trafic']\n",
    "\n",
    "def filtro_costo_extra(costo):\n",
    "    if costo > 0 :\n",
    "        costo = costo - costo\n",
    "    elif costo < 0 :\n",
    "        costo = costo * -1 \n",
    "    return costo\n",
    "\n",
    "df_merge_datos_1['cox_call'] = df_merge_datos_1['ext_call'].agg(filtro_costo_extra)  \n",
    "df_merge_datos_1['cox_call'] =df_merge_datos_1['cox_call'] * df_merge_datos_1['usd_per_minute'] \n",
    "\n",
    "df_merge_datos_1['cox_messa'] = df_merge_datos_1['ext_messa'].agg(filtro_costo_extra)\n",
    "df_merge_datos_1['cox_messa'] = df_merge_datos_1['cox_messa'] * df_merge_datos_1['usd_per_message']\n",
    "\n",
    "df_merge_datos_1['cox_trafic'] = df_merge_datos_1['ext_trafic'].agg(filtro_costo_extra)\n",
    "df_merge_datos_1['cox_trafic'] = df_merge_datos_1['cox_trafic'] * df_merge_datos_1['usd_per_gb']\n",
    "\n",
    "df_merge_datos_1['ingreso_men'] = df_merge_datos_1['usd_monthly_pay'] + df_merge_datos_1['cox_call'] + df_merge_datos_1['cox_messa'] + df_merge_datos_1['cox_trafic']\n",
    "print(df_merge_datos_1)\n",
    "df_merge_datos_1['plan'].value_counts()\n"
   ]
  },
  {
   "cell_type": "markdown",
   "metadata": {
    "id": "-jtyHzJb0q1I"
   },
   "source": [
    "## Estudia el comportamiento de usuario"
   ]
  },
  {
   "cell_type": "markdown",
   "metadata": {
    "id": "AxU3Y0N70q1J"
   },
   "source": [
    "[Calcula algunas estadísticas descriptivas para los datos agregados y fusionados que nos sean útiles y que muestren un panorama general captado por los datos. Dibuja gráficos útiles para facilitar la comprensión. Dado que la tarea principal es comparar las tarifas y decidir cuál es más rentable, las estadísticas y gráficas deben calcularse por tarifa.]\n",
    "\n",
    "[En los comentarios hallarás pistas relevantes para las llamadas, pero no las hay para los mensajes e Internet. Sin embargo, el principio del estudio estadístico que se aplica para ellos es el mismo que para las llamadas.]"
   ]
  },
  {
   "cell_type": "markdown",
   "metadata": {
    "id": "vtW4CJEe0q1J"
   },
   "source": [
    "### Llamadas"
   ]
  },
  {
   "cell_type": "code",
   "execution_count": 52,
   "metadata": {
    "id": "Jf5v5--k0q1J"
   },
   "outputs": [
    {
     "data": {
      "image/png": "[encoded data removed]",
      "text/plain": [
       "<Figure size 640x480 with 1 Axes>"
      ]
     },
     "metadata": {},
     "output_type": "display_data"
    }
   ],
   "source": [
    "# Compara la duración promedio de llamadas por cada plan y por cada mes. Traza un gráfico de barras para visualizarla.\n",
    "\n",
    "llamadas_promedio = df_merge_datos_1.groupby(['plan','mes']).agg({'total_dura':'mean'}).round(2).reset_index()\n",
    "\n",
    "surf= llamadas_promedio[llamadas_promedio['plan']=='surf']\n",
    "ultimate= llamadas_promedio[llamadas_promedio['plan']=='ultimate']\n",
    "\n",
    "fig, ax = plt.subplots()\n",
    "\n",
    "ax.bar(surf['mes'],surf['total_dura'],label='surf',color='blue',alpha=0.2)\n",
    "ax.bar(ultimate['mes'],ultimate['total_dura'],label='ultimate',color='orange',alpha=0.2)\n",
    "\n",
    "ax.set_xlabel('mes')\n",
    "ax.set_ylabel('Duración promedio en minutos')\n",
    "ax.set_title('Duración promedio de llamadas por plan y mes')\n",
    "ax.legend()\n",
    "plt.show()\n",
    "\n"
   ]
  },
  {
   "cell_type": "code",
   "execution_count": 53,
   "metadata": {
    "id": "QoLqW1S_0q1J"
   },
   "outputs": [
    {
     "name": "stdout",
     "output_type": "stream",
     "text": [
      "      mes  total_dura\n",
      "1       8       187.0\n",
      "2       9       326.0\n",
      "3      10       411.0\n",
      "4      11       441.0\n",
      "5      12       422.0\n",
      "...   ...         ...\n",
      "2282   12         0.0\n",
      "2286   10         0.0\n",
      "2287   11         0.0\n",
      "2288   12         0.0\n",
      "2289    5         0.0\n",
      "\n",
      "[1573 rows x 2 columns]\n"
     ]
    },
    {
     "data": {
      "image/png": "[encoded data removed]",
      "text/plain": [
       "<Figure size 640x480 with 1 Axes>"
      ]
     },
     "metadata": {},
     "output_type": "display_data"
    }
   ],
   "source": [
    "# Compara el número de minutos mensuales que necesitan los usuarios de cada plan. Traza un histograma.\n",
    "\n",
    "surf_min= df_merge_datos_1[df_merge_datos_1['plan']=='surf'][['mes','total_dura']]\n",
    "ultimate_min= df_merge_datos_1[df_merge_datos_1['plan']=='ultimate'][['mes','total_dura']]\n",
    "\n",
    "print(surf_min)\n",
    "\n",
    "surf_min['total_dura'].plot(kind='hist', label='surf')\n",
    "ultimate_min['total_dura'].plot(kind='hist',label='ultimate')\n",
    "plt.title('Minutos usados por plan')\n",
    "plt.xlabel('minutos')\n",
    "plt.legend()\n",
    "plt.show()\n",
    "\n"
   ]
  },
  {
   "cell_type": "markdown",
   "metadata": {
    "id": "bLS9T8OH0q1K"
   },
   "source": [
    "[Calcula la media y la variable de la duración de las llamadas para averiguar si los usuarios de los distintos planes se comportan de forma diferente al realizar sus llamadas.]"
   ]
  },
  {
   "cell_type": "code",
   "execution_count": 54,
   "metadata": {
    "id": "oSndbAnt0q1K"
   },
   "outputs": [
    {
     "name": "stdout",
     "output_type": "stream",
     "text": [
      "Medias\n",
      "media plan surf: 440.32\n",
      "media plan ultimate: 442.43\n",
      "Medianas\n",
      "mediana plan surf: 438.0\n",
      "mediana plan ultimate: 437.5\n",
      "Varianzas\n",
      "varianza plan surf: 57707.03664791546\n",
      "varianza plan ultimate: 60791.46203510802\n"
     ]
    }
   ],
   "source": [
    "# Calcula la media y la varianza de la duración mensual de llamadas.\n",
    "surf_media_call = surf_min['total_dura'].mean().round(2)\n",
    "ultimate_media_call = ultimate_min['total_dura'].mean().round(2)\n",
    "\n",
    "surf_median_call = surf_min['total_dura'].median().round(2)\n",
    "ultimate_median_call = ultimate_min['total_dura'].median().round(2)\n",
    "\n",
    "varianza_surf = np.var(surf_min['total_dura'])\n",
    "varianza_ultimate = np.var(ultimate_min['total_dura'])\n",
    "print('Medias')\n",
    "print(f'media plan surf: {surf_media_call}')\n",
    "print(f'media plan ultimate: {ultimate_media_call}')\n",
    "print('Medianas')\n",
    "print(f'mediana plan surf: {surf_median_call}')\n",
    "print(f'mediana plan ultimate: {ultimate_median_call}')\n",
    "print('Varianzas')\n",
    "print(f'varianza plan surf: {varianza_surf}')\n",
    "print(f'varianza plan ultimate: {varianza_ultimate}')"
   ]
  },
  {
   "cell_type": "code",
   "execution_count": 39,
   "metadata": {
    "id": "nZzoRUKc0q1K"
   },
   "outputs": [
    {
     "data": {
      "image/png": "[encoded data removed]",
      "text/plain": [
       "<Figure size 640x480 with 2 Axes>"
      ]
     },
     "metadata": {},
     "output_type": "display_data"
    }
   ],
   "source": [
    "# Traza un diagrama de caja para visualizar la distribución de la duración mensual de llamadas\n",
    "\n",
    "\n",
    "fig, axes= plt.subplots(1,2, sharey=True)\n",
    "\n",
    "axes[0].boxplot( x='total_dura', data=surf_min)\n",
    "axes[0].set_title('plan surf')\n",
    "\n",
    "axes[1].boxplot( x='total_dura', data=ultimate_min)\n",
    "axes[1].set_title('plan ultimate')\n",
    "plt.show()\n"
   ]
  },
  {
   "cell_type": "markdown",
   "metadata": {
    "id": "r627zBO50q1K"
   },
   "source": [
    "[Elabora las conclusiones sobre el comportamiento de los usuarios con respecto a las llamadas. ¿Su comportamiento varía en función del plan?]"
   ]
  },
  {
   "cell_type": "markdown",
   "metadata": {},
   "source": [
    "-La media para los 2 planes son parecidas el plan surf tiene una media aproximada de 404.76 y el plan ultimate 406.19 esto indica que consumen casi los mismos minutos por llama mensualmente pero las personas del plan ultimate tienden a usar mas minutos.\n",
    "\n",
    "-La mediana como se puede apreciar son casi iguales para el plan surf es 401.76 aproximadamente y para el plan ultimate 398.58 por lo que el promedio de personas que hablan 400 o mas mayo a las personas que hablan menos de 400 minutos\n",
    "\n",
    "-La varianza es mucho mayor a la media en ambos casos por lo que los datos estan mayormente dispersos de esta siendo mayor la varianza del plan ultimate por lo que se puede concluir que tiene una mayor cantidad de minutos mayor a la media \n",
    "\n"
   ]
  },
  {
   "cell_type": "markdown",
   "metadata": {
    "id": "8idKy8Wh0q1L"
   },
   "source": [
    "### Mensajes"
   ]
  },
  {
   "cell_type": "code",
   "execution_count": 55,
   "metadata": {
    "id": "NXLxiTit0q1L"
   },
   "outputs": [
    {
     "name": "stdout",
     "output_type": "stream",
     "text": [
      "      mes  cant_messa\n",
      "155     1           0\n",
      "1642    1          21\n",
      "1208    2          11\n",
      "2243    2           0\n",
      "455     2           3\n",
      "...   ...         ...\n",
      "1904   12          30\n",
      "1896   12           0\n",
      "324    12          17\n",
      "93     12          13\n",
      "319    12           0\n",
      "\n",
      "[1573 rows x 2 columns]\n"
     ]
    },
    {
     "data": {
      "image/png": "[encoded data removed]",
      "text/plain": [
       "<Figure size 640x480 with 1 Axes>"
      ]
     },
     "metadata": {},
     "output_type": "display_data"
    }
   ],
   "source": [
    "# Comprara el número de mensajes que tienden a enviar cada mes los usuarios de cada plan\n",
    "surf_messages= df_merge_datos_1[df_merge_datos_1['plan']=='surf'][['mes','cant_messa']].sort_values(by='mes')\n",
    "ultimate_messages= df_merge_datos_1[df_merge_datos_1['plan']=='ultimate'][['mes','cant_messa']].sort_values(by='mes')\n",
    "\n",
    "print(surf_messages)\n",
    "fig, axm = plt.subplots()\n",
    "\n",
    "axm.bar(surf_messages['mes'],surf_messages['cant_messa'], color='blue', label='surf')\n",
    "axm.bar(ultimate_messages['mes'],ultimate_messages['cant_messa'],color='orange',label='ultimate',alpha=0.2)\n",
    "\n",
    "axm.set_xlabel('mes')\n",
    "axm.set_ylabel('Cantidad de mensajes')\n",
    "axm.set_title('cantidad de mensajes por mes ')\n",
    "axm.legend()\n",
    "plt.show()\n"
   ]
  },
  {
   "cell_type": "code",
   "execution_count": 57,
   "metadata": {
    "id": "GRI_R7xF0q1L"
   },
   "outputs": [
    {
     "name": "stdout",
     "output_type": "stream",
     "text": [
      "Medias\n",
      "media plan surf: 31.16\n",
      "media plan ultimate: 37.55\n",
      "Medianas\n",
      "mediana plan surf: 24.0\n",
      "mediana plan ultimate: 30.0\n",
      "Varianzas\n",
      "varianza plan surf: 1126.008231726662\n",
      "varianza plan ultimate: 1207.0779147376545\n"
     ]
    }
   ],
   "source": [
    "surf_media_messages = surf_messages['cant_messa'].mean().round(2)\n",
    "ultimate_media_messages = ultimate_messages['cant_messa'].mean().round(2)\n",
    "\n",
    "surf_median_messages = surf_messages['cant_messa'].median().round(2)\n",
    "ultimate_median_messages = ultimate_messages['cant_messa'].median().round(2)\n",
    "\n",
    "varianza_surf_messages = np.var(surf_messages['cant_messa'])\n",
    "varianza_ultimate_messages = np.var(ultimate_messages['cant_messa'])\n",
    "print('Medias')\n",
    "print(f'media plan surf: {surf_media_messages}')\n",
    "print(f'media plan ultimate: {ultimate_media_messages }')\n",
    "print('Medianas')\n",
    "print(f'mediana plan surf: {surf_median_messages}')\n",
    "print(f'mediana plan ultimate: {ultimate_median_messages}')\n",
    "print('Varianzas')\n",
    "print(f'varianza plan surf: {varianza_surf_messages}')\n",
    "print(f'varianza plan ultimate: {varianza_ultimate_messages}')\n",
    "\n"
   ]
  },
  {
   "cell_type": "code",
   "execution_count": 43,
   "metadata": {
    "id": "dtFwCGAp0q1M"
   },
   "outputs": [
    {
     "data": {
      "image/png": "[encoded data removed]",
      "text/plain": [
       "<Figure size 640x480 with 2 Axes>"
      ]
     },
     "metadata": {},
     "output_type": "display_data"
    }
   ],
   "source": [
    "fig, axesm= plt.subplots(1,2, sharey=True)\n",
    "\n",
    "axesm[0].boxplot( x='cant_messa', data=surf_messages)\n",
    "axesm[0].set_title('plan surf')\n",
    "\n",
    "axesm[1].boxplot( x='cant_messa', data=ultimate_messages)\n",
    "axesm[1].set_title('plan ultimate')\n",
    "plt.show()\n"
   ]
  },
  {
   "cell_type": "markdown",
   "metadata": {
    "id": "390SSL480q1M"
   },
   "source": [
    "[Elabora las conclusiones sobre el comportamiento de los usuarios con respecto a los mensajes. ¿Su comportamiento varía en función del plan?]"
   ]
  },
  {
   "cell_type": "markdown",
   "metadata": {},
   "source": [
    "-La media del plan ultimate es mayor con 38 mensajes promedio a comparacion de la del plan surf que son de 31 mensajes esto quiere decir la las personas del plan ultimate tienden a mandar una mayor cantidad de mensajes\n",
    "\n",
    "-La mediana para el plan ultimate es de 30 y para surf de 24 al ser mayor la media que la mediana tienen una asimetria positiva en ambos planes\n",
    "\n",
    "-La varianza es mayor a la media en ambos planes por lo que los datos estan dispersos de esta. Como se puede apreciar el grafico las personas del plan ultimate tienden a enviar mas mensajes \n",
    "\n",
    "-Varia muy poco la cantidad de mensajes  entre los 2 planes"
   ]
  },
  {
   "cell_type": "markdown",
   "metadata": {
    "id": "42YSypXz0q1M"
   },
   "source": [
    "### Internet"
   ]
  },
  {
   "cell_type": "code",
   "execution_count": 58,
   "metadata": {
    "id": "lSuKPtjh0q1M"
   },
   "outputs": [
    {
     "data": {
      "image/png": "[encoded data removed]",
      "text/plain": [
       "<Figure size 640x480 with 1 Axes>"
      ]
     },
     "metadata": {},
     "output_type": "display_data"
    }
   ],
   "source": [
    "# Compara la cantidad de tráfico de Internet consumido por usuarios por plan\n",
    "surf_internet= df_merge_datos_1[df_merge_datos_1['plan']=='surf'][['user_id','mes','cant_trafic']].sort_values(by='mes')\n",
    "ultimate_internet= df_merge_datos_1[df_merge_datos_1['plan']=='ultimate'][['user_id','mes','cant_trafic']].sort_values(by='mes')\n",
    "\n",
    "surf_internet['cant_trafic'].plot(kind='hist', label='surf')\n",
    "ultimate_internet['cant_trafic'].plot(kind='hist',label='ultimate')\n",
    "plt.title('trafico de internet')\n",
    "plt.xlabel('cantidad en mb')\n",
    "plt.legend()\n",
    "plt.show()\n",
    "\n"
   ]
  },
  {
   "cell_type": "code",
   "execution_count": 45,
   "metadata": {
    "id": "wnh8jYXi0q1N"
   },
   "outputs": [
    {
     "name": "stdout",
     "output_type": "stream",
     "text": [
      "Medias\n",
      "media plan surf: 16.67\n",
      "media plan ultimate: 17.31\n",
      "Medianas\n",
      "mediana plan surf: 17.0\n",
      "mediana plan ultimate: 17.0\n",
      "Varianzas\n",
      "varianza plan surf: 61.54444942447022\n",
      "varianza plan ultimate: 58.748840663580246\n"
     ]
    }
   ],
   "source": [
    "surf_media_internet = surf_internet['cant_trafic'].mean().round(2)\n",
    "ultimate_media_internet = ultimate_internet['cant_trafic'].mean().round(2)\n",
    "\n",
    "surf_median_internet = surf_internet['cant_trafic'].median().round(2)\n",
    "ultimate_median_internet = ultimate_internet['cant_trafic'].median().round(2)\n",
    "\n",
    "varianza_surf_internet = np.var(surf_internet['cant_trafic'])\n",
    "varianza_ultimate_internet = np.var(ultimate_internet['cant_trafic'])\n",
    "print('Medias')\n",
    "print(f'media plan surf: {surf_media_internet}')\n",
    "print(f'media plan ultimate: {ultimate_media_internet}')\n",
    "print('Medianas')\n",
    "print(f'mediana plan surf: {surf_median_internet}')\n",
    "print(f'mediana plan ultimate: {ultimate_median_internet}')\n",
    "print('Varianzas')\n",
    "print(f'varianza plan surf: {varianza_surf_internet}')\n",
    "print(f'varianza plan ultimate: {varianza_ultimate_internet}')\n",
    "\n"
   ]
  },
  {
   "cell_type": "code",
   "execution_count": 59,
   "metadata": {
    "id": "5VlyJ9ry0q1N"
   },
   "outputs": [
    {
     "data": {
      "image/png": "[encoded data removed]",
      "text/plain": [
       "<Figure size 640x480 with 2 Axes>"
      ]
     },
     "metadata": {},
     "output_type": "display_data"
    }
   ],
   "source": [
    "fig, axesn= plt.subplots(1,2, sharey=True)\n",
    "\n",
    "axesn[0].boxplot( x='cant_trafic', data=surf_internet)\n",
    "axesn[0].set_title('plan surf')\n",
    "\n",
    "axesn[1].boxplot( x='cant_trafic', data=ultimate_internet)\n",
    "axesn[1].set_title('plan ultimate')\n",
    "plt.show()\n"
   ]
  },
  {
   "cell_type": "markdown",
   "metadata": {
    "id": "UN9zwuMP0q1N"
   },
   "source": [
    "[Elabora las conclusiones sobre cómo los usuarios tienden a consumir el tráfico de Internet. ¿Su comportamiento varía en función del plan?]"
   ]
  },
  {
   "cell_type": "markdown",
   "metadata": {},
   "source": [
    "-La media como se ha estado repitiendo es mayor para el plan ultimate \n",
    "\n",
    "-En este caso la mediana es casi edentica entre los 2 planes\n",
    "\n",
    "-La varianza es mayor a la media en los planes, el plan surf tiene una varianza mayor lo que quiere decir que cuenta con datos mas dispersos\n",
    "\n",
    "-Varia muy poco el consumo que tiene entre los 2 planes"
   ]
  },
  {
   "cell_type": "markdown",
   "metadata": {
    "id": "tCijq3260q1N"
   },
   "source": [
    "## Ingreso"
   ]
  },
  {
   "cell_type": "markdown",
   "metadata": {
    "id": "9nq5IAcy0q1O"
   },
   "source": [
    "[Del mismo modo que has estudiado el comportamiento de los usuarios, describe estadísticamente los ingresos de los planes.]"
   ]
  },
  {
   "cell_type": "code",
   "execution_count": 60,
   "metadata": {
    "id": "tz-dq_V00q1O"
   },
   "outputs": [
    {
     "data": {
      "image/png": "[encoded data removed]",
      "text/plain": [
       "<Figure size 640x480 with 1 Axes>"
      ]
     },
     "metadata": {},
     "output_type": "display_data"
    },
    {
     "name": "stdout",
     "output_type": "stream",
     "text": [
      "     user_id  mes  ingreso_men\n",
      "915     1196    3         77.0\n",
      "1123    1246    3         77.0\n",
      "94      1028    3        112.0\n",
      "95      1028    4        119.0\n",
      "864     1185    4         84.0\n",
      "96      1028    5         91.0\n",
      "2083    1460    6         91.0\n",
      "97      1028    6        126.0\n",
      "98      1028    7        126.0\n",
      "662     1144    7        126.0\n",
      "99      1028    8        140.0\n",
      "663     1144    8        112.0\n",
      "2204    1490    8        133.0\n",
      "582     1126    8         98.0\n",
      "664     1144    9        119.0\n",
      "2205    1490    9        112.0\n",
      "170     1043    9         84.0\n",
      "2086    1460    9        105.0\n",
      "1847    1403    9        105.0\n",
      "101     1028   10        182.0\n",
      "1700    1373   10         84.0\n",
      "1848    1403   10         77.0\n",
      "171     1043   10         77.0\n",
      "665     1144   10        126.0\n",
      "2206    1490   10        119.0\n",
      "1990    1435   11         91.0\n",
      "102     1028   11        154.0\n",
      "135     1038   11        126.0\n",
      "248     1057   11        105.0\n",
      "172     1043   11         91.0\n",
      "173     1043   12        126.0\n",
      "667     1144   12         91.0\n",
      "2208    1490   12        182.0\n",
      "20      1006   12         84.0\n",
      "2284    1204   12        112.0\n",
      "2089    1460   12         77.0\n",
      "103     1028   12        119.0\n",
      "1366    1301   12        105.0\n",
      "1298    1283   12         91.0\n",
      "1702    1373   12        112.0\n",
      "136     1038   12        168.0\n"
     ]
    }
   ],
   "source": [
    "surf_ingreso= df_merge_datos_1[df_merge_datos_1['plan']=='surf'][['user_id','mes','ingreso_men']].sort_values(by='mes')\n",
    "ultimate_ingreso = df_merge_datos_1[df_merge_datos_1['plan']=='ultimate'][['user_id','mes','ingreso_men']].sort_values(by='mes')\n",
    "\n",
    "surf_ingreso['ingreso_men'].plot(kind='hist', label='surf')\n",
    "ultimate_ingreso['ingreso_men'].plot(kind='hist',label='ultimate')\n",
    "plt.title('cantidad de ingreso por plan')\n",
    "plt.xlabel('cantidad en usd')\n",
    "plt.legend()\n",
    "plt.show()\n",
    "\n",
    "\n"
   ]
  },
  {
   "cell_type": "code",
   "execution_count": 61,
   "metadata": {
    "id": "0Y1v8ZUz0q1P"
   },
   "outputs": [
    {
     "name": "stdout",
     "output_type": "stream",
     "text": [
      "Medias\n",
      "media plan surf: 60.9\n",
      "media plan ultimate: 72.31\n",
      "Medianas\n",
      "mediana plan surf: 40.42\n",
      "mediana plan ultimate: 70.0\n",
      "Varianzas\n",
      "varianza plan surf: 3073.4128052693072\n",
      "varianza plan ultimate: 129.66814043209877\n"
     ]
    }
   ],
   "source": [
    "surf_media_ingreso= surf_ingreso['ingreso_men'].mean().round(2)\n",
    "ultimate_media_ingreso = ultimate_ingreso['ingreso_men'].mean().round(2)\n",
    "\n",
    "surf_median_ingreso = surf_ingreso['ingreso_men'].median().round(2)\n",
    "ultimate_median_ingreso = ultimate_ingreso['ingreso_men'].median().round(2)\n",
    "\n",
    "varianza_surf_ingreso = np.var(surf_ingreso['ingreso_men'])\n",
    "varianza_ultimate_ingreso = np.var(ultimate_ingreso['ingreso_men'])\n",
    "print('Medias')\n",
    "print(f'media plan surf: {surf_media_ingreso}')\n",
    "print(f'media plan ultimate: {ultimate_media_ingreso}')\n",
    "print('Medianas')\n",
    "print(f'mediana plan surf: {surf_median_ingreso}')\n",
    "print(f'mediana plan ultimate: {ultimate_median_ingreso}')\n",
    "print('Varianzas')\n",
    "print(f'varianza plan surf: {varianza_surf_ingreso}')\n",
    "print(f'varianza plan ultimate: {varianza_ultimate_ingreso}')\n"
   ]
  },
  {
   "cell_type": "code",
   "execution_count": 62,
   "metadata": {
    "id": "bYmwxyVh0q1P"
   },
   "outputs": [
    {
     "data": {
      "image/png": "[encoded data removed]",
      "text/plain": [
       "<Figure size 640x480 with 2 Axes>"
      ]
     },
     "metadata": {},
     "output_type": "display_data"
    }
   ],
   "source": [
    "fig, axesi= plt.subplots(1,2, sharey=True)\n",
    "\n",
    "axesi[0].boxplot( x='ingreso_men', data=surf_ingreso)\n",
    "axesi[0].set_title('plan surf')\n",
    "\n",
    "axesi[1].boxplot( x='ingreso_men', data=ultimate_ingreso)\n",
    "axesi[1].set_title('plan ultimate')\n",
    "plt.show()\n"
   ]
  },
  {
   "cell_type": "markdown",
   "metadata": {
    "id": "KAFidcXZ0q1P"
   },
   "source": [
    "[Elabora las conclusiones sobre cómo difiere el ingreso entre los planes.]"
   ]
  },
  {
   "cell_type": "markdown",
   "metadata": {},
   "source": [
    "-La media difiere bastante en comparacion con los datos de los minutos, mensajes e internet ya que la media del plan surf es mucho mayor que la del plan ultimate esto quiere decir que las personas tienden a pagar mas en el plan surf mensualmente\n",
    "\n",
    "-En ambos casos la media es superior a la mediana como se venia analisando con demas datos pero la diferencia entre los planes es bastante grande \n",
    "\n",
    "-La varianza es mucho mayor a la media en ambos casos por lo que los datos estan dispersos de esta, pero la varianza del plan surf es mucho mayor lo que indica que tiene una mayor dipersion en comparacion que el plan ultimate \n",
    "\n",
    "-Con esto podemos ver que las personas del plan surf pagan mas mensualmente, teniendo en conisderacion las caracteristicas de cada plan y la cantidad de personas que tienen, por lo que se podria argumentar que las personas del plan surf sobrepasan ya sea los minutos, cantidad de mensajes o internet llevando a pagar por exceder estos y las personas del ultimate tienden a no pasar el limite del plan haciendo que estos solo paguen la mensualidad y no los excedentes"
   ]
  },
  {
   "cell_type": "markdown",
   "metadata": {
    "id": "ajJ7VKeI0q1Q"
   },
   "source": [
    "## Prueba las hipótesis estadísticas"
   ]
  },
  {
   "cell_type": "markdown",
   "metadata": {
    "id": "AdXAZ-yL0q1Q"
   },
   "source": [
    "[Prueba la hipótesis de que son diferentes los ingresos promedio procedentes de los usuarios de los planes de llamada Ultimate y Surf.]"
   ]
  },
  {
   "cell_type": "markdown",
   "metadata": {
    "id": "IQwa_hsh0q1Q"
   },
   "source": [
    "[Elabora las hipótesis nula y alternativa, escoge la prueba estadística, determina el valor alfa.]"
   ]
  },
  {
   "cell_type": "code",
   "execution_count": 66,
   "metadata": {
    "id": "nFoPNlPq0q1R"
   },
   "outputs": [
    {
     "name": "stdout",
     "output_type": "stream",
     "text": [
      "valor p:  9.430219968963033e-15\n",
      "Rechazamos la hipotesis nula\n",
      "\n",
      "valor p:  4.9915442243501295e-08\n",
      "Rechazamos la hipotesis nula\n"
     ]
    }
   ],
   "source": [
    "# Prueba las hipótesis\n",
    "surf_ingreso_h= df_merge_datos_1[df_merge_datos_1['plan']=='surf'][['user_id','ingreso_men']]\n",
    "ultimate_ingreso_h = df_merge_datos_1[df_merge_datos_1['plan']=='ultimate'][['user_id','ingreso_men']]\n",
    "\n",
    "\n",
    "alpha = 0.05\n",
    "\n",
    "results = st.ttest_ind(surf_ingreso_h['ingreso_men'],ultimate_ingreso_h['ingreso_men'], equal_var=False)\n",
    "\n",
    "print('valor p: ', results.pvalue)\n",
    "\n",
    "if results.pvalue < alpha:\n",
    "    print('Rechazamos la hipotesis nula')\n",
    "else:\n",
    "    print('No podemos rechazar la hipotesis nula')\n",
    "    \n",
    "print()    \n",
    "results_equal_var = st.ttest_ind(surf_ingreso_h['ingreso_men'],ultimate_ingreso_h['ingreso_men'])\n",
    "\n",
    "print('valor p: ', results_equal_var.pvalue)\n",
    "\n",
    "if results_equal_var.pvalue < alpha:\n",
    "    print('Rechazamos la hipotesis nula')\n",
    "else:\n",
    "    print('No podemos rechazar la hipotesis nula')"
   ]
  },
  {
   "cell_type": "markdown",
   "metadata": {},
   "source": [
    "- La hipótesis nula se rechazo por lo cual los ingreses de los usuarios ultimate y surf son diferents"
   ]
  },
  {
   "cell_type": "markdown",
   "metadata": {
    "id": "tCcAruM60q1R"
   },
   "source": [
    "[Prueba la hipótesis de que el ingreso promedio de los usuarios del área NY-NJ es diferente al de los usuarios de otras regiones.]"
   ]
  },
  {
   "cell_type": "markdown",
   "metadata": {
    "id": "LsBgitqj0q1R"
   },
   "source": [
    "[Elabora las hipótesis nula y alternativa, escoge la prueba estadística, determina el valor alfa.]"
   ]
  },
  {
   "cell_type": "code",
   "execution_count": 65,
   "metadata": {
    "id": "Cqcj7wrZ0q1S"
   },
   "outputs": [
    {
     "name": "stdout",
     "output_type": "stream",
     "text": [
      "valor p:  0.034754837582215314\n",
      "Rechazamos la hipotesis nula\n",
      "\n",
      "valor p:  0.045081764209720945\n",
      "Rechazamos la hipotesis nula\n"
     ]
    }
   ],
   "source": [
    "# Prueba las hipótesis\n",
    "df_ingreso_para_area = df_merge_datos_1[['user_id','ingreso_men']]\n",
    "df_area = df_users[['user_id','state']]\n",
    "df_ingreso_area = df_ingreso_para_area.merge(df_area, on='user_id', how='left')\n",
    "\n",
    "filtro_nj= df_ingreso_area[df_ingreso_area['state'].str.startswith('NY NJ')]\n",
    "filtro_no_nj =df_ingreso_area[~(df_ingreso_area['state'].str.startswith('NY NJ'))]\n",
    "\n",
    "alpha = 0.05\n",
    "\n",
    "results_area = st.ttest_ind(filtro_nj['ingreso_men'],filtro_no_nj['ingreso_men'], equal_var=False)\n",
    "\n",
    "print('valor p: ', results_area .pvalue)\n",
    "\n",
    "if results_area.pvalue < alpha:\n",
    "    print('Rechazamos la hipotesis nula')\n",
    "else:\n",
    "    print('No podemos rechazar la hipotesis nula')\n",
    "    \n",
    "print()    \n",
    "results_equal_var_area = st.ttest_ind(filtro_nj['ingreso_men'],filtro_no_nj['ingreso_men'])\n",
    "\n",
    "print('valor p: ', results_equal_var_area.pvalue)\n",
    "\n",
    "if results_equal_var_area.pvalue < alpha:\n",
    "    print('Rechazamos la hipotesis nula')\n",
    "else:\n",
    "    print('No podemos rechazar la hipotesis nula')\n"
   ]
  },
  {
   "cell_type": "markdown",
   "metadata": {},
   "source": [
    "- La hipótesis nula se rechazo lo que quiere decir que el ingreso promedio de los usuarioa de las regiones NY-NJ difieren de las demas"
   ]
  },
  {
   "cell_type": "markdown",
   "metadata": {
    "id": "bbTR8UQO0q1T"
   },
   "source": [
    "## Conclusión general\n",
    "\n",
    "[En esta sección final, enumera tus conclusiones importantes. Asegúrate de que estas abarquen todas las decisiones (suposiciones) importantes que adoptaste y que determinaron la forma elegida para procesar y analizar los datos.]"
   ]
  },
  {
   "cell_type": "markdown",
   "metadata": {},
   "source": [
    "-Con respecto a las medias analizadas la mayor siempre fue con respecto al plan ultimate pero se tiene que considerar que las personas del plan surf eran practicamente el doble que las del ultimate \n",
    "\n",
    "-se puede ver que las personas del plan ultimate no usan la totalidad de los recursos que posee el plan \n",
    "\n",
    "-Por lo contrario las personas del plan surf tienden a sobrepasar los limites del plan \n",
    "\n",
    "-Al redondear las llamadas como era requerido se encontraron llamadas con duracion 0 lo cual se remplazo con duracion de 1 ya que independientemente si fue error del sistema o una llamada que se corto al momento de marcar por el usuario se tiene un registro de esta\n",
    "\n",
    "-Ya que la primera hipotesis con respecto a la media de ingresos de los 2 planes se rechazo la hipotesis nula lo que significa que los ingresos son diferentes\n",
    "\n",
    "-Con respecto a la segunda hipotesis de media de ingreso en el NY-NJ se rechaza la hipostisis nula lo que significa que los ingresos son diferentes para el area NY-NJ con lo demas\n"
   ]
  }
 ],
 "metadata": {
  "ExecuteTimeLog": [
   {
    "duration": 828,
    "start_time": "2021-11-16T09:21:11.304Z"
   },
   {
    "duration": 893,
    "start_time": "2021-11-16T09:21:17.728Z"
   },
   {
    "duration": 1150,
    "start_time": "2021-11-16T09:21:29.568Z"
   },
   {
    "duration": 3,
    "start_time": "2021-11-16T09:24:14.495Z"
   },
   {
    "duration": 120,
    "start_time": "2021-11-16T09:24:46.630Z"
   },
   {
    "duration": 3,
    "start_time": "2021-11-16T09:28:27.882Z"
   },
   {
    "duration": 4,
    "start_time": "2021-11-16T09:29:54.281Z"
   },
   {
    "duration": 3,
    "start_time": "2021-11-16T09:30:45.936Z"
   },
   {
    "duration": 4,
    "start_time": "2021-11-16T09:31:06.300Z"
   },
   {
    "duration": 113,
    "start_time": "2021-11-16T09:31:37.208Z"
   },
   {
    "duration": 143,
    "start_time": "2021-11-16T09:31:48.656Z"
   },
   {
    "duration": 98,
    "start_time": "2021-11-16T09:31:55.678Z"
   },
   {
    "duration": 3,
    "start_time": "2021-11-16T09:32:08.535Z"
   },
   {
    "duration": 111,
    "start_time": "2021-11-16T09:32:10.120Z"
   },
   {
    "duration": 3,
    "start_time": "2021-11-16T09:32:15.732Z"
   },
   {
    "duration": 4,
    "start_time": "2021-11-16T09:32:29.423Z"
   },
   {
    "duration": 3,
    "start_time": "2021-11-16T10:03:03.074Z"
   },
   {
    "duration": 3,
    "start_time": "2021-11-16T10:10:01.288Z"
   },
   {
    "duration": 3,
    "start_time": "2021-11-16T10:10:46.923Z"
   },
   {
    "duration": 121,
    "start_time": "2021-11-16T10:37:46.494Z"
   },
   {
    "duration": 125,
    "start_time": "2021-11-16T10:38:20.632Z"
   },
   {
    "duration": 112,
    "start_time": "2021-11-16T10:46:53.001Z"
   },
   {
    "duration": 110,
    "start_time": "2021-11-16T10:48:25.775Z"
   },
   {
    "duration": 3,
    "start_time": "2021-11-16T10:50:18.720Z"
   },
   {
    "duration": 4,
    "start_time": "2021-11-16T10:50:37.649Z"
   },
   {
    "duration": 2,
    "start_time": "2021-11-16T10:50:51.884Z"
   },
   {
    "duration": 3,
    "start_time": "2021-11-16T10:51:56.237Z"
   },
   {
    "duration": 101,
    "start_time": "2021-11-16T10:53:13.791Z"
   },
   {
    "duration": 3,
    "start_time": "2021-11-16T10:55:59.186Z"
   },
   {
    "duration": 3,
    "start_time": "2021-11-16T10:56:10.751Z"
   },
   {
    "duration": 3,
    "start_time": "2021-11-16T10:56:49.038Z"
   },
   {
    "duration": 3,
    "start_time": "2021-11-16T10:56:49.174Z"
   },
   {
    "duration": 4,
    "start_time": "2021-11-16T10:56:49.414Z"
   },
   {
    "duration": 3,
    "start_time": "2021-11-16T10:56:49.680Z"
   },
   {
    "duration": 3,
    "start_time": "2021-11-16T10:56:50.370Z"
   },
   {
    "duration": 114,
    "start_time": "2021-11-16T10:59:34.518Z"
   },
   {
    "duration": 3,
    "start_time": "2021-11-16T11:01:41.201Z"
   },
   {
    "duration": 116,
    "start_time": "2021-11-16T11:01:48.754Z"
   },
   {
    "duration": 3,
    "start_time": "2021-11-16T11:02:16.685Z"
   },
   {
    "duration": 3,
    "start_time": "2021-11-16T11:02:19.479Z"
   },
   {
    "duration": 3,
    "start_time": "2021-11-16T11:02:47.067Z"
   },
   {
    "duration": 3,
    "start_time": "2021-11-16T11:02:49.353Z"
   },
   {
    "duration": 3,
    "start_time": "2021-11-16T11:03:07.835Z"
   },
   {
    "duration": 3,
    "start_time": "2021-11-16T11:03:07.953Z"
   },
   {
    "duration": 112,
    "start_time": "2021-11-16T11:07:52.072Z"
   },
   {
    "duration": 187,
    "start_time": "2021-11-16T11:09:23.468Z"
   },
   {
    "duration": 4,
    "start_time": "2021-11-16T11:10:01.455Z"
   },
   {
    "duration": 3,
    "start_time": "2021-11-16T11:10:05.069Z"
   },
   {
    "duration": 4,
    "start_time": "2021-11-16T11:10:13.376Z"
   },
   {
    "duration": 3,
    "start_time": "2021-11-16T11:10:14.434Z"
   },
   {
    "duration": 3,
    "start_time": "2021-11-16T11:10:22.853Z"
   },
   {
    "duration": 4,
    "start_time": "2021-11-16T11:27:29.279Z"
   },
   {
    "duration": 4,
    "start_time": "2021-11-16T11:29:08.919Z"
   },
   {
    "duration": 118,
    "start_time": "2021-11-16T11:29:46.703Z"
   },
   {
    "duration": 437,
    "start_time": "2021-11-16T11:36:02.181Z"
   },
   {
    "duration": 157,
    "start_time": "2021-11-16T11:36:14.388Z"
   },
   {
    "duration": 207,
    "start_time": "2021-11-16T11:47:15.898Z"
   },
   {
    "duration": 3,
    "start_time": "2021-11-16T11:53:52.092Z"
   },
   {
    "duration": 3,
    "start_time": "2021-11-16T11:53:52.236Z"
   },
   {
    "duration": 3,
    "start_time": "2021-11-16T11:59:12.005Z"
   },
   {
    "duration": 112,
    "start_time": "2021-11-16T12:00:33.446Z"
   },
   {
    "duration": 3,
    "start_time": "2021-11-16T12:02:14.453Z"
   },
   {
    "duration": 3,
    "start_time": "2021-11-16T12:02:39.512Z"
   },
   {
    "duration": 106,
    "start_time": "2021-11-16T12:03:03.460Z"
   },
   {
    "duration": 3,
    "start_time": "2021-11-17T20:37:21.139Z"
   },
   {
    "duration": 3,
    "start_time": "2021-11-17T20:37:22.229Z"
   },
   {
    "duration": 3,
    "start_time": "2021-11-17T20:38:38.806Z"
   },
   {
    "duration": 3,
    "start_time": "2021-11-17T20:38:41.958Z"
   },
   {
    "duration": 3,
    "start_time": "2021-11-17T20:43:46.551Z"
   },
   {
    "duration": 4,
    "start_time": "2021-11-17T20:58:21.835Z"
   },
   {
    "duration": 3,
    "start_time": "2021-11-17T20:59:21.872Z"
   },
   {
    "duration": 4,
    "start_time": "2021-11-17T20:59:45.352Z"
   },
   {
    "duration": 4,
    "start_time": "2021-11-17T20:59:49.646Z"
   },
   {
    "duration": 159,
    "start_time": "2021-11-17T21:02:26.949Z"
   },
   {
    "duration": 3,
    "start_time": "2021-11-17T21:03:53.461Z"
   },
   {
    "duration": 3,
    "start_time": "2021-11-17T21:03:53.694Z"
   },
   {
    "duration": 3,
    "start_time": "2021-11-17T21:05:28.145Z"
   },
   {
    "duration": 116,
    "start_time": "2021-11-17T21:05:57.787Z"
   },
   {
    "duration": 3,
    "start_time": "2021-11-17T21:06:37.993Z"
   },
   {
    "duration": 3,
    "start_time": "2021-11-17T21:06:38.261Z"
   },
   {
    "duration": 3,
    "start_time": "2021-11-17T21:11:54.358Z"
   },
   {
    "duration": 3,
    "start_time": "2021-11-17T21:12:43.846Z"
   },
   {
    "duration": 4,
    "start_time": "2021-11-17T21:13:08.773Z"
   },
   {
    "duration": 3,
    "start_time": "2021-11-17T21:14:44.441Z"
   },
   {
    "duration": 3,
    "start_time": "2021-11-17T21:15:42.059Z"
   },
   {
    "duration": 4,
    "start_time": "2021-11-17T21:15:51.995Z"
   },
   {
    "duration": 3,
    "start_time": "2021-11-17T21:15:53.923Z"
   },
   {
    "duration": 3,
    "start_time": "2021-11-17T21:15:55.282Z"
   },
   {
    "duration": 3,
    "start_time": "2021-11-17T21:16:28.492Z"
   },
   {
    "duration": 3,
    "start_time": "2021-11-17T21:16:32.603Z"
   },
   {
    "duration": 3,
    "start_time": "2021-11-17T21:17:06.941Z"
   },
   {
    "duration": 98,
    "start_time": "2021-11-17T21:18:05.733Z"
   },
   {
    "duration": 4,
    "start_time": "2021-11-17T21:21:35.255Z"
   },
   {
    "duration": 3,
    "start_time": "2021-11-17T21:21:37.804Z"
   },
   {
    "duration": 4,
    "start_time": "2021-11-17T21:23:06.071Z"
   },
   {
    "duration": 3,
    "start_time": "2021-11-17T21:23:24.799Z"
   },
   {
    "duration": 3,
    "start_time": "2021-11-17T21:23:32.591Z"
   },
   {
    "duration": 98,
    "start_time": "2021-11-17T21:28:31.559Z"
   },
   {
    "duration": 3,
    "start_time": "2021-11-17T21:28:45.448Z"
   },
   {
    "duration": 3,
    "start_time": "2021-11-17T21:29:17.303Z"
   },
   {
    "duration": 3,
    "start_time": "2021-11-17T21:29:29.617Z"
   },
   {
    "duration": 3,
    "start_time": "2021-11-17T21:29:32.681Z"
   },
   {
    "duration": 3,
    "start_time": "2021-11-17T21:36:11.474Z"
   },
   {
    "duration": 3,
    "start_time": "2021-11-17T21:36:14.791Z"
   },
   {
    "duration": 3,
    "start_time": "2021-11-17T21:36:53.943Z"
   },
   {
    "duration": 3,
    "start_time": "2021-11-17T21:36:56.165Z"
   },
   {
    "duration": 4,
    "start_time": "2021-11-17T21:37:16.590Z"
   },
   {
    "duration": 3,
    "start_time": "2021-11-17T21:37:22.702Z"
   },
   {
    "duration": 4,
    "start_time": "2021-11-17T21:38:03.479Z"
   },
   {
    "duration": 3,
    "start_time": "2021-11-17T21:38:08.601Z"
   },
   {
    "duration": 3,
    "start_time": "2021-11-17T21:38:12.928Z"
   },
   {
    "duration": 3,
    "start_time": "2021-11-17T21:38:48.896Z"
   },
   {
    "duration": 2,
    "start_time": "2021-11-17T21:38:49.171Z"
   },
   {
    "duration": 4,
    "start_time": "2021-11-17T21:39:57.889Z"
   },
   {
    "duration": 3,
    "start_time": "2021-11-17T21:39:58.057Z"
   },
   {
    "duration": 3,
    "start_time": "2021-11-17T21:41:20.108Z"
   },
   {
    "duration": 3,
    "start_time": "2021-11-17T21:41:20.629Z"
   },
   {
    "duration": 3,
    "start_time": "2021-11-17T21:42:49.136Z"
   },
   {
    "duration": 3,
    "start_time": "2021-11-17T21:43:15.137Z"
   },
   {
    "duration": 4,
    "start_time": "2021-11-17T21:43:16.766Z"
   },
   {
    "duration": 4,
    "start_time": "2021-11-17T21:43:31.711Z"
   },
   {
    "duration": 3,
    "start_time": "2021-11-17T21:43:36.312Z"
   },
   {
    "duration": 4,
    "start_time": "2021-11-17T21:45:08.825Z"
   },
   {
    "duration": 4,
    "start_time": "2021-11-17T21:45:10.119Z"
   },
   {
    "duration": 4,
    "start_time": "2021-11-17T21:45:13.748Z"
   },
   {
    "duration": 3,
    "start_time": "2021-11-17T21:45:22.219Z"
   },
   {
    "duration": 3,
    "start_time": "2021-11-17T21:45:33.412Z"
   },
   {
    "duration": 2,
    "start_time": "2021-11-17T21:46:01.885Z"
   },
   {
    "duration": 3,
    "start_time": "2021-11-17T21:46:03.628Z"
   },
   {
    "duration": 107,
    "start_time": "2021-11-17T21:47:32.512Z"
   },
   {
    "duration": 103,
    "start_time": "2021-11-17T21:50:36.243Z"
   },
   {
    "duration": 3,
    "start_time": "2021-11-18T06:28:31.440Z"
   },
   {
    "duration": 3,
    "start_time": "2021-11-18T06:29:00.168Z"
   },
   {
    "duration": 3,
    "start_time": "2021-11-18T06:31:27.008Z"
   },
   {
    "duration": 2,
    "start_time": "2021-11-18T06:35:34.288Z"
   },
   {
    "duration": 2,
    "start_time": "2021-11-18T06:38:04.527Z"
   },
   {
    "duration": 916,
    "start_time": "2024-06-17T19:32:58.900Z"
   },
   {
    "duration": 437,
    "start_time": "2024-06-17T19:36:25.882Z"
   },
   {
    "duration": 25,
    "start_time": "2024-06-17T19:36:40.820Z"
   },
   {
    "duration": 696,
    "start_time": "2024-06-17T19:36:55.140Z"
   },
   {
    "duration": 12,
    "start_time": "2024-06-17T19:37:31.734Z"
   },
   {
    "duration": 13,
    "start_time": "2024-06-17T19:37:34.584Z"
   },
   {
    "duration": 359,
    "start_time": "2024-06-17T19:39:29.303Z"
   },
   {
    "duration": 44,
    "start_time": "2024-06-17T19:40:19.659Z"
   },
   {
    "duration": 33,
    "start_time": "2024-06-17T19:42:15.612Z"
   },
   {
    "duration": 549,
    "start_time": "2024-06-17T19:43:23.463Z"
   },
   {
    "duration": 8,
    "start_time": "2024-06-17T19:43:40.893Z"
   },
   {
    "duration": 7,
    "start_time": "2024-06-17T19:44:11.644Z"
   },
   {
    "duration": 19,
    "start_time": "2024-06-17T19:52:10.810Z"
   },
   {
    "duration": 25,
    "start_time": "2024-06-17T19:52:35.349Z"
   },
   {
    "duration": 72,
    "start_time": "2024-06-17T19:52:58.473Z"
   },
   {
    "duration": 69,
    "start_time": "2024-06-17T19:53:23.993Z"
   },
   {
    "duration": 69,
    "start_time": "2024-06-17T19:53:35.369Z"
   },
   {
    "duration": 16,
    "start_time": "2024-06-17T19:55:55.707Z"
   },
   {
    "duration": 18,
    "start_time": "2024-06-17T19:56:24.496Z"
   },
   {
    "duration": 45,
    "start_time": "2024-06-17T19:57:14.190Z"
   },
   {
    "duration": 27,
    "start_time": "2024-06-17T19:57:23.676Z"
   },
   {
    "duration": 32,
    "start_time": "2024-06-17T19:57:36.558Z"
   },
   {
    "duration": 27,
    "start_time": "2024-06-17T19:57:44.543Z"
   },
   {
    "duration": 28,
    "start_time": "2024-06-17T19:58:01.809Z"
   },
   {
    "duration": 19,
    "start_time": "2024-06-17T19:58:48.502Z"
   },
   {
    "duration": 7,
    "start_time": "2024-06-17T20:48:50.693Z"
   },
   {
    "duration": 9,
    "start_time": "2024-06-17T20:49:45.289Z"
   },
   {
    "duration": 13,
    "start_time": "2024-06-17T20:52:22.570Z"
   },
   {
    "duration": 11,
    "start_time": "2024-06-17T20:53:31.377Z"
   },
   {
    "duration": 9,
    "start_time": "2024-06-17T21:06:24.661Z"
   },
   {
    "duration": 11,
    "start_time": "2024-06-17T21:06:51.227Z"
   },
   {
    "duration": 286,
    "start_time": "2024-06-17T21:13:09.146Z"
   },
   {
    "duration": 13,
    "start_time": "2024-06-17T21:16:28.110Z"
   },
   {
    "duration": 15,
    "start_time": "2024-06-17T21:20:53.139Z"
   },
   {
    "duration": 16,
    "start_time": "2024-06-17T21:21:15.584Z"
   },
   {
    "duration": 13,
    "start_time": "2024-06-17T21:23:45.794Z"
   },
   {
    "duration": 15,
    "start_time": "2024-06-17T21:28:03.485Z"
   },
   {
    "duration": 15,
    "start_time": "2024-06-17T21:29:03.212Z"
   },
   {
    "duration": 862,
    "start_time": "2024-06-17T21:33:43.973Z"
   },
   {
    "duration": 12,
    "start_time": "2024-06-17T21:33:54.092Z"
   },
   {
    "duration": 22,
    "start_time": "2024-06-17T21:35:08.443Z"
   },
   {
    "duration": 26,
    "start_time": "2024-06-17T21:35:44.333Z"
   },
   {
    "duration": 13,
    "start_time": "2024-06-17T21:36:06.246Z"
   },
   {
    "duration": 82,
    "start_time": "2024-06-17T21:49:33.709Z"
   },
   {
    "duration": 34,
    "start_time": "2024-06-17T21:49:42.622Z"
   },
   {
    "duration": 16,
    "start_time": "2024-06-17T21:52:48.728Z"
   },
   {
    "duration": 8,
    "start_time": "2024-06-17T21:53:04.328Z"
   },
   {
    "duration": 32,
    "start_time": "2024-06-17T21:53:13.207Z"
   },
   {
    "duration": 59,
    "start_time": "2024-06-17T21:53:19.892Z"
   },
   {
    "duration": 35,
    "start_time": "2024-06-17T21:53:23.846Z"
   },
   {
    "duration": 181,
    "start_time": "2024-06-17T21:54:10.024Z"
   },
   {
    "duration": 19,
    "start_time": "2024-06-17T21:55:08.505Z"
   },
   {
    "duration": 10,
    "start_time": "2024-06-17T21:55:33.267Z"
   },
   {
    "duration": 30,
    "start_time": "2024-06-17T21:56:54.116Z"
   },
   {
    "duration": 19,
    "start_time": "2024-06-17T21:57:06.303Z"
   },
   {
    "duration": 36,
    "start_time": "2024-06-17T22:02:38.686Z"
   },
   {
    "duration": 38,
    "start_time": "2024-06-17T22:02:45.425Z"
   },
   {
    "duration": 109,
    "start_time": "2024-06-17T22:05:05.110Z"
   },
   {
    "duration": 21,
    "start_time": "2024-06-17T22:06:38.600Z"
   },
   {
    "duration": 10,
    "start_time": "2024-06-17T22:07:01.106Z"
   },
   {
    "duration": 78,
    "start_time": "2024-06-17T22:11:51.750Z"
   },
   {
    "duration": 158,
    "start_time": "2024-06-17T22:13:40.879Z"
   },
   {
    "duration": 25,
    "start_time": "2024-06-17T22:14:02.930Z"
   },
   {
    "duration": 50,
    "start_time": "2024-06-17T22:15:34.052Z"
   },
   {
    "duration": 892,
    "start_time": "2024-06-18T14:43:50.356Z"
   },
   {
    "duration": 376,
    "start_time": "2024-06-18T14:43:52.609Z"
   },
   {
    "duration": 34,
    "start_time": "2024-06-18T14:43:55.185Z"
   },
   {
    "duration": 9,
    "start_time": "2024-06-18T14:43:57.597Z"
   },
   {
    "duration": 9,
    "start_time": "2024-06-18T14:44:12.481Z"
   },
   {
    "duration": 14,
    "start_time": "2024-06-18T14:44:34.819Z"
   },
   {
    "duration": 9,
    "start_time": "2024-06-18T14:44:37.954Z"
   },
   {
    "duration": 9,
    "start_time": "2024-06-18T14:44:42.830Z"
   },
   {
    "duration": 18,
    "start_time": "2024-06-18T14:44:52.060Z"
   },
   {
    "duration": 15,
    "start_time": "2024-06-18T14:44:59.715Z"
   },
   {
    "duration": 830,
    "start_time": "2024-06-18T14:45:21.531Z"
   },
   {
    "duration": 48,
    "start_time": "2024-06-18T14:45:59.711Z"
   },
   {
    "duration": 26,
    "start_time": "2024-06-18T14:46:06.686Z"
   },
   {
    "duration": 50,
    "start_time": "2024-06-18T14:47:05.032Z"
   },
   {
    "duration": 11,
    "start_time": "2024-06-18T14:47:36.911Z"
   },
   {
    "duration": 849,
    "start_time": "2024-06-18T14:49:25.164Z"
   },
   {
    "duration": 288,
    "start_time": "2024-06-18T14:49:28.003Z"
   },
   {
    "duration": 34,
    "start_time": "2024-06-18T14:49:30.358Z"
   },
   {
    "duration": 9,
    "start_time": "2024-06-18T14:49:41.954Z"
   },
   {
    "duration": 10,
    "start_time": "2024-06-18T14:49:46.351Z"
   },
   {
    "duration": 15,
    "start_time": "2024-06-18T14:49:50.932Z"
   },
   {
    "duration": 9,
    "start_time": "2024-06-18T14:49:53.549Z"
   },
   {
    "duration": 18,
    "start_time": "2024-06-18T14:50:11.139Z"
   },
   {
    "duration": 15,
    "start_time": "2024-06-18T14:50:18.885Z"
   },
   {
    "duration": 14,
    "start_time": "2024-06-18T14:50:44.324Z"
   },
   {
    "duration": 15,
    "start_time": "2024-06-18T14:51:01.020Z"
   },
   {
    "duration": 922,
    "start_time": "2024-06-18T14:51:24.952Z"
   },
   {
    "duration": 48,
    "start_time": "2024-06-18T14:55:36.692Z"
   },
   {
    "duration": 54,
    "start_time": "2024-06-18T14:58:03.100Z"
   },
   {
    "duration": 48,
    "start_time": "2024-06-18T14:58:05.659Z"
   },
   {
    "duration": 902,
    "start_time": "2024-06-18T14:58:19.095Z"
   },
   {
    "duration": 261,
    "start_time": "2024-06-18T14:58:21.220Z"
   },
   {
    "duration": 35,
    "start_time": "2024-06-18T14:58:24.687Z"
   },
   {
    "duration": 9,
    "start_time": "2024-06-18T14:58:26.796Z"
   },
   {
    "duration": 10,
    "start_time": "2024-06-18T14:58:30.316Z"
   },
   {
    "duration": 14,
    "start_time": "2024-06-18T14:58:34.512Z"
   },
   {
    "duration": 12,
    "start_time": "2024-06-18T14:58:37.096Z"
   },
   {
    "duration": 19,
    "start_time": "2024-06-18T14:58:43.371Z"
   },
   {
    "duration": 15,
    "start_time": "2024-06-18T14:58:54.731Z"
   },
   {
    "duration": 822,
    "start_time": "2024-06-18T14:59:21.744Z"
   },
   {
    "duration": 48,
    "start_time": "2024-06-18T15:01:21.512Z"
   },
   {
    "duration": 888,
    "start_time": "2024-06-18T15:03:36.250Z"
   },
   {
    "duration": 269,
    "start_time": "2024-06-18T15:03:37.993Z"
   },
   {
    "duration": 34,
    "start_time": "2024-06-18T15:03:40.044Z"
   },
   {
    "duration": 10,
    "start_time": "2024-06-18T15:03:41.901Z"
   },
   {
    "duration": 8,
    "start_time": "2024-06-18T15:03:43.742Z"
   },
   {
    "duration": 14,
    "start_time": "2024-06-18T15:03:46.855Z"
   },
   {
    "duration": 9,
    "start_time": "2024-06-18T15:03:49.130Z"
   },
   {
    "duration": 19,
    "start_time": "2024-06-18T15:03:56.006Z"
   },
   {
    "duration": 15,
    "start_time": "2024-06-18T15:04:10.144Z"
   },
   {
    "duration": 22,
    "start_time": "2024-06-18T15:07:14.942Z"
   },
   {
    "duration": 867,
    "start_time": "2024-06-18T15:07:32.230Z"
   },
   {
    "duration": 264,
    "start_time": "2024-06-18T15:07:34.168Z"
   },
   {
    "duration": 33,
    "start_time": "2024-06-18T15:07:35.746Z"
   },
   {
    "duration": 13,
    "start_time": "2024-06-18T15:07:37.912Z"
   },
   {
    "duration": 9,
    "start_time": "2024-06-18T15:07:39.947Z"
   },
   {
    "duration": 14,
    "start_time": "2024-06-18T15:07:42.300Z"
   },
   {
    "duration": 12,
    "start_time": "2024-06-18T15:07:44.078Z"
   },
   {
    "duration": 21,
    "start_time": "2024-06-18T15:07:47.201Z"
   },
   {
    "duration": 17,
    "start_time": "2024-06-18T15:07:56.319Z"
   },
   {
    "duration": 819,
    "start_time": "2024-06-18T15:08:02.640Z"
   },
   {
    "duration": 857,
    "start_time": "2024-06-18T15:08:13.955Z"
   },
   {
    "duration": 262,
    "start_time": "2024-06-18T15:08:15.869Z"
   },
   {
    "duration": 33,
    "start_time": "2024-06-18T15:08:17.709Z"
   },
   {
    "duration": 9,
    "start_time": "2024-06-18T15:08:19.820Z"
   },
   {
    "duration": 8,
    "start_time": "2024-06-18T15:08:22.301Z"
   },
   {
    "duration": 15,
    "start_time": "2024-06-18T15:08:26.074Z"
   },
   {
    "duration": 10,
    "start_time": "2024-06-18T15:08:27.940Z"
   },
   {
    "duration": 20,
    "start_time": "2024-06-18T15:08:31.347Z"
   },
   {
    "duration": 16,
    "start_time": "2024-06-18T15:08:35.236Z"
   },
   {
    "duration": 839,
    "start_time": "2024-06-18T15:08:47.945Z"
   },
   {
    "duration": 22,
    "start_time": "2024-06-18T15:09:00.584Z"
   },
   {
    "duration": 23,
    "start_time": "2024-06-18T15:12:13.048Z"
   },
   {
    "duration": 23,
    "start_time": "2024-06-18T15:12:18.792Z"
   },
   {
    "duration": 24,
    "start_time": "2024-06-18T15:12:26.460Z"
   },
   {
    "duration": 12,
    "start_time": "2024-06-18T15:12:30.117Z"
   },
   {
    "duration": 69,
    "start_time": "2024-06-18T15:12:35.511Z"
   },
   {
    "duration": 202,
    "start_time": "2024-06-18T15:12:38.497Z"
   },
   {
    "duration": 18,
    "start_time": "2024-06-18T15:12:41.398Z"
   },
   {
    "duration": 47,
    "start_time": "2024-06-18T15:12:52.096Z"
   },
   {
    "duration": 39,
    "start_time": "2024-06-18T15:12:55.479Z"
   },
   {
    "duration": 116,
    "start_time": "2024-06-18T15:13:01.395Z"
   },
   {
    "duration": 23,
    "start_time": "2024-06-18T15:13:05.739Z"
   },
   {
    "duration": 11,
    "start_time": "2024-06-18T15:13:08.148Z"
   },
   {
    "duration": 73,
    "start_time": "2024-06-18T15:13:10.668Z"
   },
   {
    "duration": 156,
    "start_time": "2024-06-18T15:13:13.002Z"
   },
   {
    "duration": 8,
    "start_time": "2024-06-18T15:13:45.154Z"
   },
   {
    "duration": 471,
    "start_time": "2024-06-18T15:23:34.803Z"
   },
   {
    "duration": 8,
    "start_time": "2024-06-18T15:24:08.265Z"
   },
   {
    "duration": 15,
    "start_time": "2024-06-18T15:24:48.191Z"
   },
   {
    "duration": 43,
    "start_time": "2024-06-18T15:27:09.788Z"
   },
   {
    "duration": 44,
    "start_time": "2024-06-18T15:30:10.006Z"
   },
   {
    "duration": 20,
    "start_time": "2024-06-18T15:31:15.412Z"
   },
   {
    "duration": 5,
    "start_time": "2024-06-18T15:32:33.483Z"
   },
   {
    "duration": 42,
    "start_time": "2024-06-18T15:32:42.899Z"
   },
   {
    "duration": 37,
    "start_time": "2024-06-18T15:32:59.033Z"
   },
   {
    "duration": 36,
    "start_time": "2024-06-18T15:33:33.405Z"
   },
   {
    "duration": 37,
    "start_time": "2024-06-18T15:36:53.818Z"
   },
   {
    "duration": 38,
    "start_time": "2024-06-18T15:37:30.154Z"
   },
   {
    "duration": 45,
    "start_time": "2024-06-18T15:37:59.136Z"
   },
   {
    "duration": 529,
    "start_time": "2024-06-18T15:38:23.754Z"
   },
   {
    "duration": 98,
    "start_time": "2024-06-18T15:38:50.689Z"
   },
   {
    "duration": 33,
    "start_time": "2024-06-18T15:39:33.762Z"
   },
   {
    "duration": 98,
    "start_time": "2024-06-18T15:39:57.781Z"
   },
   {
    "duration": 36,
    "start_time": "2024-06-18T15:40:53.974Z"
   },
   {
    "duration": 60,
    "start_time": "2024-06-18T15:42:43.312Z"
   },
   {
    "duration": 6,
    "start_time": "2024-06-18T15:45:20.280Z"
   },
   {
    "duration": 7,
    "start_time": "2024-06-18T15:45:27.096Z"
   },
   {
    "duration": 68,
    "start_time": "2024-06-18T15:45:44.485Z"
   },
   {
    "duration": 82,
    "start_time": "2024-06-18T15:45:50.517Z"
   },
   {
    "duration": 7,
    "start_time": "2024-06-18T15:46:05.090Z"
   },
   {
    "duration": 67,
    "start_time": "2024-06-18T15:46:11.260Z"
   },
   {
    "duration": 79,
    "start_time": "2024-06-18T15:49:13.495Z"
   },
   {
    "duration": 66,
    "start_time": "2024-06-18T15:49:24.371Z"
   },
   {
    "duration": 55,
    "start_time": "2024-06-18T15:49:46.326Z"
   },
   {
    "duration": 74,
    "start_time": "2024-06-18T15:50:25.182Z"
   },
   {
    "duration": 56,
    "start_time": "2024-06-18T15:56:17.182Z"
   },
   {
    "duration": 54,
    "start_time": "2024-06-18T15:57:09.510Z"
   },
   {
    "duration": 824,
    "start_time": "2024-06-18T15:57:22.483Z"
   },
   {
    "duration": 69,
    "start_time": "2024-06-18T15:57:37.159Z"
   },
   {
    "duration": 70,
    "start_time": "2024-06-18T15:58:00.193Z"
   },
   {
    "duration": 24,
    "start_time": "2024-06-18T15:58:25.926Z"
   },
   {
    "duration": 64,
    "start_time": "2024-06-18T15:58:48.316Z"
   },
   {
    "duration": 46,
    "start_time": "2024-06-18T15:59:48.063Z"
   },
   {
    "duration": 30,
    "start_time": "2024-06-18T16:44:28.465Z"
   },
   {
    "duration": 29,
    "start_time": "2024-06-18T16:45:04.213Z"
   },
   {
    "duration": 39,
    "start_time": "2024-06-18T16:48:07.281Z"
   },
   {
    "duration": 26,
    "start_time": "2024-06-18T16:50:03.293Z"
   },
   {
    "duration": 32,
    "start_time": "2024-06-18T16:52:56.708Z"
   },
   {
    "duration": 34,
    "start_time": "2024-06-18T16:53:32.992Z"
   },
   {
    "duration": 14,
    "start_time": "2024-06-18T19:36:33.720Z"
   },
   {
    "duration": 22,
    "start_time": "2024-06-18T19:38:05.549Z"
   },
   {
    "duration": 27,
    "start_time": "2024-06-18T19:38:34.331Z"
   },
   {
    "duration": 13,
    "start_time": "2024-06-18T19:42:39.576Z"
   },
   {
    "duration": 29,
    "start_time": "2024-06-18T19:52:57.681Z"
   },
   {
    "duration": 16,
    "start_time": "2024-06-18T19:53:02.268Z"
   },
   {
    "duration": 34,
    "start_time": "2024-06-18T19:54:14.858Z"
   },
   {
    "duration": 37,
    "start_time": "2024-06-18T19:56:53.062Z"
   },
   {
    "duration": 44,
    "start_time": "2024-06-18T20:00:29.185Z"
   },
   {
    "duration": 44,
    "start_time": "2024-06-18T20:00:57.674Z"
   },
   {
    "duration": 44,
    "start_time": "2024-06-18T20:01:26.759Z"
   },
   {
    "duration": 43,
    "start_time": "2024-06-18T20:01:33.816Z"
   },
   {
    "duration": 37,
    "start_time": "2024-06-18T20:02:13.145Z"
   },
   {
    "duration": 25,
    "start_time": "2024-06-18T20:06:18.422Z"
   },
   {
    "duration": 28,
    "start_time": "2024-06-18T20:14:39.471Z"
   },
   {
    "duration": 34,
    "start_time": "2024-06-18T20:14:49.938Z"
   },
   {
    "duration": 36,
    "start_time": "2024-06-18T20:16:42.500Z"
   },
   {
    "duration": 9,
    "start_time": "2024-06-18T20:19:29.124Z"
   },
   {
    "duration": 40,
    "start_time": "2024-06-18T20:20:25.539Z"
   },
   {
    "duration": 38,
    "start_time": "2024-06-18T20:20:58.522Z"
   },
   {
    "duration": 43,
    "start_time": "2024-06-18T20:21:05.946Z"
   },
   {
    "duration": 8,
    "start_time": "2024-06-18T20:21:29.988Z"
   },
   {
    "duration": 24,
    "start_time": "2024-06-18T21:55:43.103Z"
   },
   {
    "duration": 39,
    "start_time": "2024-06-18T21:56:07.284Z"
   },
   {
    "duration": 38,
    "start_time": "2024-06-18T21:56:57.371Z"
   },
   {
    "duration": 8,
    "start_time": "2024-06-18T21:57:26.509Z"
   },
   {
    "duration": 12,
    "start_time": "2024-06-18T21:58:30.371Z"
   },
   {
    "duration": 17,
    "start_time": "2024-06-18T21:58:44.105Z"
   },
   {
    "duration": 17,
    "start_time": "2024-06-18T22:00:08.028Z"
   },
   {
    "duration": 36,
    "start_time": "2024-06-18T22:01:29.652Z"
   },
   {
    "duration": 1011,
    "start_time": "2024-06-18T22:05:33.588Z"
   },
   {
    "duration": 41,
    "start_time": "2024-06-18T22:05:55.563Z"
   },
   {
    "duration": 36,
    "start_time": "2024-06-18T22:06:09.742Z"
   },
   {
    "duration": 36,
    "start_time": "2024-06-18T22:06:52.502Z"
   },
   {
    "duration": 4904,
    "start_time": "2024-06-19T18:23:51.297Z"
   },
   {
    "duration": 361,
    "start_time": "2024-06-19T18:23:58.564Z"
   },
   {
    "duration": 35,
    "start_time": "2024-06-19T18:24:01.671Z"
   },
   {
    "duration": 9,
    "start_time": "2024-06-19T18:24:04.030Z"
   },
   {
    "duration": 9,
    "start_time": "2024-06-19T18:24:06.700Z"
   },
   {
    "duration": 13,
    "start_time": "2024-06-19T18:24:11.581Z"
   },
   {
    "duration": 9,
    "start_time": "2024-06-19T18:24:14.118Z"
   },
   {
    "duration": 22,
    "start_time": "2024-06-19T18:24:17.859Z"
   },
   {
    "duration": 51,
    "start_time": "2024-06-19T18:24:27.279Z"
   },
   {
    "duration": 38,
    "start_time": "2024-06-19T18:24:37.914Z"
   },
   {
    "duration": 17,
    "start_time": "2024-06-19T18:24:40.056Z"
   },
   {
    "duration": 99,
    "start_time": "2024-06-19T18:24:42.937Z"
   },
   {
    "duration": 192,
    "start_time": "2024-06-19T18:24:50.038Z"
   },
   {
    "duration": 21,
    "start_time": "2024-06-19T18:24:54.872Z"
   },
   {
    "duration": 51,
    "start_time": "2024-06-19T18:24:57.075Z"
   },
   {
    "duration": 37,
    "start_time": "2024-06-19T18:25:00.406Z"
   },
   {
    "duration": 113,
    "start_time": "2024-06-19T18:25:02.500Z"
   },
   {
    "duration": 28,
    "start_time": "2024-06-19T18:25:04.428Z"
   },
   {
    "duration": 12,
    "start_time": "2024-06-19T18:25:06.122Z"
   },
   {
    "duration": 97,
    "start_time": "2024-06-19T18:25:09.727Z"
   },
   {
    "duration": 169,
    "start_time": "2024-06-19T18:25:11.973Z"
   },
   {
    "duration": 7,
    "start_time": "2024-06-19T18:25:15.146Z"
   },
   {
    "duration": 444,
    "start_time": "2024-06-19T18:25:17.022Z"
   },
   {
    "duration": 41,
    "start_time": "2024-06-19T18:25:35.891Z"
   },
   {
    "duration": 31,
    "start_time": "2024-06-19T18:25:47.408Z"
   },
   {
    "duration": 27,
    "start_time": "2024-06-19T18:25:50.839Z"
   },
   {
    "duration": 33,
    "start_time": "2024-06-19T18:25:54.771Z"
   },
   {
    "duration": 32,
    "start_time": "2024-06-19T18:26:12.229Z"
   },
   {
    "duration": 27,
    "start_time": "2024-06-19T18:28:35.520Z"
   },
   {
    "duration": 27,
    "start_time": "2024-06-19T18:29:09.473Z"
   },
   {
    "duration": 28,
    "start_time": "2024-06-19T18:32:07.301Z"
   },
   {
    "duration": 36,
    "start_time": "2024-06-19T18:32:51.669Z"
   },
   {
    "duration": 1177,
    "start_time": "2024-06-19T18:37:37.495Z"
   },
   {
    "duration": 42,
    "start_time": "2024-06-19T18:39:07.817Z"
   },
   {
    "duration": 32,
    "start_time": "2024-06-19T18:40:41.656Z"
   },
   {
    "duration": 35,
    "start_time": "2024-06-19T18:41:00.315Z"
   },
   {
    "duration": 37,
    "start_time": "2024-06-19T18:43:23.028Z"
   },
   {
    "duration": 14,
    "start_time": "2024-06-19T18:44:34.944Z"
   },
   {
    "duration": 14,
    "start_time": "2024-06-19T18:45:08.152Z"
   },
   {
    "duration": 15,
    "start_time": "2024-06-19T18:45:27.159Z"
   },
   {
    "duration": 16,
    "start_time": "2024-06-19T18:45:44.025Z"
   },
   {
    "duration": 26,
    "start_time": "2024-06-19T18:46:00.689Z"
   },
   {
    "duration": 9,
    "start_time": "2024-06-19T18:47:03.524Z"
   },
   {
    "duration": 60,
    "start_time": "2024-06-19T18:47:12.294Z"
   },
   {
    "duration": 29,
    "start_time": "2024-06-19T18:47:58.985Z"
   },
   {
    "duration": 15,
    "start_time": "2024-06-19T18:49:49.027Z"
   },
   {
    "duration": 30,
    "start_time": "2024-06-19T18:50:12.644Z"
   },
   {
    "duration": 55,
    "start_time": "2024-06-19T18:54:42.014Z"
   },
   {
    "duration": 36,
    "start_time": "2024-06-19T18:55:28.123Z"
   },
   {
    "duration": 38,
    "start_time": "2024-06-19T18:59:14.027Z"
   },
   {
    "duration": 40,
    "start_time": "2024-06-19T19:00:37.200Z"
   },
   {
    "duration": 48,
    "start_time": "2024-06-19T19:01:10.856Z"
   },
   {
    "duration": 44,
    "start_time": "2024-06-19T19:01:32.347Z"
   },
   {
    "duration": 41,
    "start_time": "2024-06-19T19:03:00.591Z"
   },
   {
    "duration": 33,
    "start_time": "2024-06-19T19:04:03.708Z"
   },
   {
    "duration": 32,
    "start_time": "2024-06-19T19:04:27.326Z"
   },
   {
    "duration": 27,
    "start_time": "2024-06-19T19:04:36.944Z"
   },
   {
    "duration": 32,
    "start_time": "2024-06-19T19:17:57.415Z"
   },
   {
    "duration": 18,
    "start_time": "2024-06-19T19:21:34.545Z"
   },
   {
    "duration": 14,
    "start_time": "2024-06-19T19:23:02.301Z"
   },
   {
    "duration": 16,
    "start_time": "2024-06-19T19:24:27.507Z"
   },
   {
    "duration": 6,
    "start_time": "2024-06-19T19:42:20.323Z"
   },
   {
    "duration": 112,
    "start_time": "2024-06-19T19:52:58.983Z"
   },
   {
    "duration": 103,
    "start_time": "2024-06-19T19:53:55.424Z"
   },
   {
    "duration": 246,
    "start_time": "2024-06-19T19:54:11.298Z"
   },
   {
    "duration": 979,
    "start_time": "2024-06-19T19:54:58.282Z"
   },
   {
    "duration": 198,
    "start_time": "2024-06-19T19:55:05.074Z"
   },
   {
    "duration": 175,
    "start_time": "2024-06-19T19:55:30.744Z"
   },
   {
    "duration": 120,
    "start_time": "2024-06-19T19:55:41.460Z"
   },
   {
    "duration": 122,
    "start_time": "2024-06-19T19:55:55.815Z"
   },
   {
    "duration": 137,
    "start_time": "2024-06-19T19:56:07.870Z"
   },
   {
    "duration": 134,
    "start_time": "2024-06-19T19:56:17.338Z"
   },
   {
    "duration": 427,
    "start_time": "2024-06-19T19:56:28.307Z"
   },
   {
    "duration": 137,
    "start_time": "2024-06-19T19:56:53.138Z"
   },
   {
    "duration": 137,
    "start_time": "2024-06-19T19:56:58.348Z"
   },
   {
    "duration": 142,
    "start_time": "2024-06-19T19:59:16.099Z"
   },
   {
    "duration": 130,
    "start_time": "2024-06-19T19:59:58.168Z"
   },
   {
    "duration": 106,
    "start_time": "2024-06-19T20:00:03.654Z"
   },
   {
    "duration": 234,
    "start_time": "2024-06-19T20:00:15.109Z"
   },
   {
    "duration": 136,
    "start_time": "2024-06-19T20:00:52.485Z"
   },
   {
    "duration": 364,
    "start_time": "2024-06-19T20:01:16.010Z"
   },
   {
    "duration": 139,
    "start_time": "2024-06-19T20:01:31.974Z"
   },
   {
    "duration": 114,
    "start_time": "2024-06-19T20:03:07.661Z"
   },
   {
    "duration": 107,
    "start_time": "2024-06-19T20:04:51.488Z"
   },
   {
    "duration": 134,
    "start_time": "2024-06-19T20:05:46.831Z"
   },
   {
    "duration": 128,
    "start_time": "2024-06-19T20:07:11.370Z"
   },
   {
    "duration": 104,
    "start_time": "2024-06-19T20:08:26.664Z"
   },
   {
    "duration": 100,
    "start_time": "2024-06-19T20:08:41.296Z"
   },
   {
    "duration": 112,
    "start_time": "2024-06-19T20:09:25.767Z"
   },
   {
    "duration": 112,
    "start_time": "2024-06-19T20:12:43.886Z"
   },
   {
    "duration": 110,
    "start_time": "2024-06-19T20:15:21.563Z"
   },
   {
    "duration": 108,
    "start_time": "2024-06-19T20:15:30.028Z"
   },
   {
    "duration": 106,
    "start_time": "2024-06-19T20:16:10.650Z"
   },
   {
    "duration": 102,
    "start_time": "2024-06-19T20:16:20.641Z"
   },
   {
    "duration": 236,
    "start_time": "2024-06-19T20:16:24.835Z"
   },
   {
    "duration": 106,
    "start_time": "2024-06-19T20:16:31.266Z"
   },
   {
    "duration": 108,
    "start_time": "2024-06-19T20:16:34.246Z"
   },
   {
    "duration": 14,
    "start_time": "2024-06-19T20:17:55.101Z"
   },
   {
    "duration": 15,
    "start_time": "2024-06-19T20:19:17.613Z"
   },
   {
    "duration": 156,
    "start_time": "2024-06-19T20:21:24.460Z"
   },
   {
    "duration": 16,
    "start_time": "2024-06-19T20:21:37.240Z"
   },
   {
    "duration": 223,
    "start_time": "2024-06-19T20:27:21.458Z"
   },
   {
    "duration": 188,
    "start_time": "2024-06-19T20:27:50.506Z"
   },
   {
    "duration": 210,
    "start_time": "2024-06-19T20:28:13.626Z"
   },
   {
    "duration": 106,
    "start_time": "2024-06-19T20:28:49.457Z"
   },
   {
    "duration": 25,
    "start_time": "2024-06-19T20:29:07.173Z"
   },
   {
    "duration": 8,
    "start_time": "2024-06-19T20:29:55.047Z"
   },
   {
    "duration": 7,
    "start_time": "2024-06-19T20:30:04.481Z"
   },
   {
    "duration": 23,
    "start_time": "2024-06-19T20:30:15.001Z"
   },
   {
    "duration": 23,
    "start_time": "2024-06-19T20:30:38.579Z"
   },
   {
    "duration": 247,
    "start_time": "2024-06-19T20:32:24.623Z"
   },
   {
    "duration": 107,
    "start_time": "2024-06-19T20:32:43.703Z"
   },
   {
    "duration": 27,
    "start_time": "2024-06-19T20:33:01.250Z"
   },
   {
    "duration": 7,
    "start_time": "2024-06-19T20:33:11.818Z"
   },
   {
    "duration": 22,
    "start_time": "2024-06-19T20:34:42.853Z"
   },
   {
    "duration": 227,
    "start_time": "2024-06-19T20:39:19.457Z"
   },
   {
    "duration": 60,
    "start_time": "2024-06-19T20:40:24.587Z"
   },
   {
    "duration": 24,
    "start_time": "2024-06-19T20:40:34.648Z"
   },
   {
    "duration": 21,
    "start_time": "2024-06-19T20:40:51.004Z"
   },
   {
    "duration": 1273,
    "start_time": "2024-06-19T20:48:51.727Z"
   },
   {
    "duration": 315,
    "start_time": "2024-06-19T20:48:54.686Z"
   },
   {
    "duration": 34,
    "start_time": "2024-06-19T20:48:57.063Z"
   },
   {
    "duration": 10,
    "start_time": "2024-06-19T20:48:59.173Z"
   },
   {
    "duration": 8,
    "start_time": "2024-06-19T20:49:01.409Z"
   },
   {
    "duration": 19,
    "start_time": "2024-06-19T20:49:04.081Z"
   },
   {
    "duration": 14,
    "start_time": "2024-06-19T20:49:06.204Z"
   },
   {
    "duration": 25,
    "start_time": "2024-06-19T20:49:09.364Z"
   },
   {
    "duration": 33,
    "start_time": "2024-06-19T20:49:11.917Z"
   },
   {
    "duration": 27,
    "start_time": "2024-06-19T20:49:16.567Z"
   },
   {
    "duration": 15,
    "start_time": "2024-06-19T20:49:18.430Z"
   },
   {
    "duration": 77,
    "start_time": "2024-06-19T20:49:20.559Z"
   },
   {
    "duration": 198,
    "start_time": "2024-06-19T20:49:22.540Z"
   },
   {
    "duration": 21,
    "start_time": "2024-06-19T20:49:25.013Z"
   },
   {
    "duration": 49,
    "start_time": "2024-06-19T20:49:27.091Z"
   },
   {
    "duration": 42,
    "start_time": "2024-06-19T20:49:29.858Z"
   },
   {
    "duration": 131,
    "start_time": "2024-06-19T20:49:31.696Z"
   },
   {
    "duration": 23,
    "start_time": "2024-06-19T20:49:33.799Z"
   },
   {
    "duration": 16,
    "start_time": "2024-06-19T20:49:35.731Z"
   },
   {
    "duration": 94,
    "start_time": "2024-06-19T20:49:38.224Z"
   },
   {
    "duration": 148,
    "start_time": "2024-06-19T20:49:40.469Z"
   },
   {
    "duration": 7,
    "start_time": "2024-06-19T20:49:43.203Z"
   },
   {
    "duration": 47,
    "start_time": "2024-06-19T20:49:45.848Z"
   },
   {
    "duration": 31,
    "start_time": "2024-06-19T20:49:48.115Z"
   },
   {
    "duration": 27,
    "start_time": "2024-06-19T20:49:50.244Z"
   },
   {
    "duration": 33,
    "start_time": "2024-06-19T20:49:52.792Z"
   },
   {
    "duration": 38,
    "start_time": "2024-06-19T20:49:56.486Z"
   },
   {
    "duration": 46,
    "start_time": "2024-06-19T20:51:53.571Z"
   },
   {
    "duration": 35,
    "start_time": "2024-06-19T20:52:28.015Z"
   },
   {
    "duration": 20,
    "start_time": "2024-06-19T20:53:04.548Z"
   },
   {
    "duration": 25,
    "start_time": "2024-06-19T20:55:31.084Z"
   },
   {
    "duration": 22,
    "start_time": "2024-06-19T20:56:51.875Z"
   },
   {
    "duration": 26,
    "start_time": "2024-06-19T20:59:00.400Z"
   },
   {
    "duration": 31,
    "start_time": "2024-06-19T21:02:09.787Z"
   },
   {
    "duration": 41,
    "start_time": "2024-06-19T21:02:37.656Z"
   },
   {
    "duration": 10,
    "start_time": "2024-06-19T21:07:29.050Z"
   },
   {
    "duration": 12,
    "start_time": "2024-06-19T21:10:06.441Z"
   },
   {
    "duration": 408,
    "start_time": "2024-06-19T21:13:19.629Z"
   },
   {
    "duration": 369,
    "start_time": "2024-06-19T21:13:28.255Z"
   },
   {
    "duration": 249,
    "start_time": "2024-06-19T21:14:50.338Z"
   },
   {
    "duration": 452,
    "start_time": "2024-06-19T21:19:23.356Z"
   },
   {
    "duration": 365,
    "start_time": "2024-06-19T21:22:10.232Z"
   },
   {
    "duration": 362,
    "start_time": "2024-06-19T21:26:22.773Z"
   },
   {
    "duration": 376,
    "start_time": "2024-06-19T21:26:46.573Z"
   },
   {
    "duration": 338,
    "start_time": "2024-06-19T21:28:54.000Z"
   },
   {
    "duration": 403,
    "start_time": "2024-06-19T21:38:52.291Z"
   },
   {
    "duration": 350,
    "start_time": "2024-06-19T21:39:05.922Z"
   },
   {
    "duration": 469,
    "start_time": "2024-06-19T21:40:42.095Z"
   },
   {
    "duration": 341,
    "start_time": "2024-06-19T21:40:54.403Z"
   },
   {
    "duration": 356,
    "start_time": "2024-06-19T21:41:18.626Z"
   },
   {
    "duration": 374,
    "start_time": "2024-06-19T21:41:31.597Z"
   },
   {
    "duration": 377,
    "start_time": "2024-06-19T21:41:48.398Z"
   },
   {
    "duration": 7,
    "start_time": "2024-06-19T21:43:13.873Z"
   },
   {
    "duration": 196,
    "start_time": "2024-06-19T21:44:50.785Z"
   },
   {
    "duration": 198,
    "start_time": "2024-06-19T21:45:15.982Z"
   },
   {
    "duration": 3,
    "start_time": "2024-06-19T21:45:28.026Z"
   },
   {
    "duration": 215,
    "start_time": "2024-06-19T21:45:32.773Z"
   },
   {
    "duration": 386,
    "start_time": "2024-06-19T21:46:00.639Z"
   },
   {
    "duration": 6,
    "start_time": "2024-06-19T21:48:05.100Z"
   },
   {
    "duration": 178,
    "start_time": "2024-06-19T21:48:17.960Z"
   },
   {
    "duration": 421,
    "start_time": "2024-06-19T21:48:35.331Z"
   },
   {
    "duration": 345,
    "start_time": "2024-06-19T21:48:49.322Z"
   },
   {
    "duration": 388,
    "start_time": "2024-06-19T21:50:08.923Z"
   },
   {
    "duration": 360,
    "start_time": "2024-06-19T21:50:35.537Z"
   },
   {
    "duration": 331,
    "start_time": "2024-06-19T21:50:47.879Z"
   },
   {
    "duration": 330,
    "start_time": "2024-06-19T21:52:50.384Z"
   },
   {
    "duration": 57,
    "start_time": "2024-06-19T21:59:45.528Z"
   },
   {
    "duration": 56,
    "start_time": "2024-06-19T21:59:52.385Z"
   },
   {
    "duration": 7,
    "start_time": "2024-06-19T22:00:07.125Z"
   },
   {
    "duration": 315,
    "start_time": "2024-06-19T22:00:13.651Z"
   },
   {
    "duration": 667,
    "start_time": "2024-06-19T22:06:49.839Z"
   },
   {
    "duration": 500,
    "start_time": "2024-06-19T22:07:32.675Z"
   },
   {
    "duration": 527,
    "start_time": "2024-06-19T22:08:15.062Z"
   },
   {
    "duration": 500,
    "start_time": "2024-06-19T22:08:54.277Z"
   },
   {
    "duration": 483,
    "start_time": "2024-06-19T22:09:44.261Z"
   },
   {
    "duration": 451,
    "start_time": "2024-06-19T22:09:59.404Z"
   },
   {
    "duration": 35,
    "start_time": "2024-06-19T22:12:49.214Z"
   },
   {
    "duration": 238,
    "start_time": "2024-06-19T22:16:26.339Z"
   },
   {
    "duration": 384,
    "start_time": "2024-06-19T22:16:46.778Z"
   },
   {
    "duration": 209,
    "start_time": "2024-06-19T22:17:06.315Z"
   },
   {
    "duration": 5250,
    "start_time": "2024-06-20T19:16:24.052Z"
   },
   {
    "duration": 420,
    "start_time": "2024-06-20T19:16:29.305Z"
   },
   {
    "duration": 37,
    "start_time": "2024-06-20T19:16:29.728Z"
   },
   {
    "duration": 9,
    "start_time": "2024-06-20T19:16:31.932Z"
   },
   {
    "duration": 9,
    "start_time": "2024-06-20T19:16:36.322Z"
   },
   {
    "duration": 14,
    "start_time": "2024-06-20T19:16:39.364Z"
   },
   {
    "duration": 24,
    "start_time": "2024-06-20T19:16:42.789Z"
   },
   {
    "duration": 24,
    "start_time": "2024-06-20T19:16:45.081Z"
   },
   {
    "duration": 25,
    "start_time": "2024-06-20T19:16:47.923Z"
   },
   {
    "duration": 13,
    "start_time": "2024-06-20T19:16:50.044Z"
   },
   {
    "duration": 72,
    "start_time": "2024-06-20T19:16:52.422Z"
   },
   {
    "duration": 187,
    "start_time": "2024-06-20T19:16:54.454Z"
   },
   {
    "duration": 18,
    "start_time": "2024-06-20T19:16:56.734Z"
   },
   {
    "duration": 38,
    "start_time": "2024-06-20T19:16:59.818Z"
   },
   {
    "duration": 126,
    "start_time": "2024-06-20T19:17:01.727Z"
   },
   {
    "duration": 21,
    "start_time": "2024-06-20T19:17:03.952Z"
   },
   {
    "duration": 14,
    "start_time": "2024-06-20T19:17:06.373Z"
   },
   {
    "duration": 71,
    "start_time": "2024-06-20T19:17:08.913Z"
   },
   {
    "duration": 158,
    "start_time": "2024-06-20T19:17:11.703Z"
   },
   {
    "duration": 7,
    "start_time": "2024-06-20T19:17:13.770Z"
   },
   {
    "duration": 44,
    "start_time": "2024-06-20T19:17:15.688Z"
   },
   {
    "duration": 31,
    "start_time": "2024-06-20T19:17:17.678Z"
   },
   {
    "duration": 27,
    "start_time": "2024-06-20T19:17:20.124Z"
   },
   {
    "duration": 34,
    "start_time": "2024-06-20T19:17:22.843Z"
   },
   {
    "duration": 29,
    "start_time": "2024-06-20T19:17:25.070Z"
   },
   {
    "duration": 33,
    "start_time": "2024-06-20T19:17:27.464Z"
   },
   {
    "duration": 42,
    "start_time": "2024-06-20T19:17:34.069Z"
   },
   {
    "duration": 218,
    "start_time": "2024-06-20T19:17:42.690Z"
   },
   {
    "duration": 262,
    "start_time": "2024-06-20T19:20:13.840Z"
   },
   {
    "duration": 1040,
    "start_time": "2024-06-20T19:27:33.759Z"
   },
   {
    "duration": 305,
    "start_time": "2024-06-20T19:27:49.051Z"
   },
   {
    "duration": 257,
    "start_time": "2024-06-20T19:28:23.251Z"
   },
   {
    "duration": 286,
    "start_time": "2024-06-20T19:29:37.190Z"
   },
   {
    "duration": 278,
    "start_time": "2024-06-20T19:29:52.650Z"
   },
   {
    "duration": 248,
    "start_time": "2024-06-20T19:32:58.585Z"
   },
   {
    "duration": 10,
    "start_time": "2024-06-20T19:34:19.722Z"
   },
   {
    "duration": 1292,
    "start_time": "2024-06-20T19:35:01.590Z"
   },
   {
    "duration": 14,
    "start_time": "2024-06-20T19:35:10.428Z"
   },
   {
    "duration": 285,
    "start_time": "2024-06-20T19:36:06.960Z"
   },
   {
    "duration": 301,
    "start_time": "2024-06-20T19:36:51.996Z"
   },
   {
    "duration": 270,
    "start_time": "2024-06-20T19:37:05.929Z"
   },
   {
    "duration": 371,
    "start_time": "2024-06-20T19:38:15.386Z"
   },
   {
    "duration": 286,
    "start_time": "2024-06-20T19:40:32.826Z"
   },
   {
    "duration": 285,
    "start_time": "2024-06-20T19:40:39.314Z"
   },
   {
    "duration": 9,
    "start_time": "2024-06-20T19:41:04.546Z"
   },
   {
    "duration": 282,
    "start_time": "2024-06-20T19:41:10.922Z"
   },
   {
    "duration": 296,
    "start_time": "2024-06-20T19:41:23.178Z"
   },
   {
    "duration": 293,
    "start_time": "2024-06-20T19:42:00.171Z"
   },
   {
    "duration": 300,
    "start_time": "2024-06-20T19:42:24.675Z"
   },
   {
    "duration": 33,
    "start_time": "2024-06-20T19:43:01.456Z"
   },
   {
    "duration": 25,
    "start_time": "2024-06-20T19:43:15.174Z"
   },
   {
    "duration": 27,
    "start_time": "2024-06-20T19:43:22.216Z"
   },
   {
    "duration": 31,
    "start_time": "2024-06-20T19:43:41.962Z"
   },
   {
    "duration": 299,
    "start_time": "2024-06-20T19:43:57.008Z"
   },
   {
    "duration": 303,
    "start_time": "2024-06-20T19:44:04.634Z"
   },
   {
    "duration": 304,
    "start_time": "2024-06-20T19:44:48.631Z"
   },
   {
    "duration": 293,
    "start_time": "2024-06-20T19:45:35.922Z"
   },
   {
    "duration": 302,
    "start_time": "2024-06-20T19:56:51.010Z"
   },
   {
    "duration": 5,
    "start_time": "2024-06-20T19:57:27.856Z"
   },
   {
    "duration": 5,
    "start_time": "2024-06-20T19:57:53.504Z"
   },
   {
    "duration": 27,
    "start_time": "2024-06-20T20:00:58.014Z"
   },
   {
    "duration": 8,
    "start_time": "2024-06-20T20:01:25.967Z"
   },
   {
    "duration": 208,
    "start_time": "2024-06-20T20:07:16.135Z"
   },
   {
    "duration": 25,
    "start_time": "2024-06-20T20:11:16.582Z"
   },
   {
    "duration": 23,
    "start_time": "2024-06-20T20:11:34.453Z"
   },
   {
    "duration": 55,
    "start_time": "2024-06-20T20:12:18.543Z"
   },
   {
    "duration": 1401,
    "start_time": "2024-06-20T20:12:49.646Z"
   },
   {
    "duration": 167,
    "start_time": "2024-06-20T20:13:18.407Z"
   },
   {
    "duration": 188,
    "start_time": "2024-06-20T20:22:24.016Z"
   },
   {
    "duration": 273,
    "start_time": "2024-06-20T20:28:21.919Z"
   },
   {
    "duration": 281,
    "start_time": "2024-06-20T20:28:46.675Z"
   },
   {
    "duration": 263,
    "start_time": "2024-06-20T20:29:41.457Z"
   },
   {
    "duration": 234,
    "start_time": "2024-06-20T20:29:57.177Z"
   },
   {
    "duration": 231,
    "start_time": "2024-06-20T20:31:49.742Z"
   },
   {
    "duration": 4889,
    "start_time": "2024-06-21T13:40:29.058Z"
   },
   {
    "duration": 457,
    "start_time": "2024-06-21T13:40:33.951Z"
   },
   {
    "duration": 33,
    "start_time": "2024-06-21T13:40:36.730Z"
   },
   {
    "duration": 9,
    "start_time": "2024-06-21T13:40:39.930Z"
   },
   {
    "duration": 9,
    "start_time": "2024-06-21T13:40:42.296Z"
   },
   {
    "duration": 14,
    "start_time": "2024-06-21T13:40:44.879Z"
   },
   {
    "duration": 22,
    "start_time": "2024-06-21T13:40:48.306Z"
   },
   {
    "duration": 32,
    "start_time": "2024-06-21T13:40:51.096Z"
   },
   {
    "duration": 25,
    "start_time": "2024-06-21T13:40:53.655Z"
   },
   {
    "duration": 13,
    "start_time": "2024-06-21T13:40:55.704Z"
   },
   {
    "duration": 70,
    "start_time": "2024-06-21T13:40:58.256Z"
   },
   {
    "duration": 194,
    "start_time": "2024-06-21T13:41:01.158Z"
   },
   {
    "duration": 21,
    "start_time": "2024-06-21T13:41:03.627Z"
   },
   {
    "duration": 35,
    "start_time": "2024-06-21T13:41:07.243Z"
   },
   {
    "duration": 114,
    "start_time": "2024-06-21T13:41:09.566Z"
   },
   {
    "duration": 31,
    "start_time": "2024-06-21T13:41:12.004Z"
   },
   {
    "duration": 68,
    "start_time": "2024-06-21T13:41:15.397Z"
   },
   {
    "duration": 149,
    "start_time": "2024-06-21T13:41:17.818Z"
   },
   {
    "duration": 7,
    "start_time": "2024-06-21T13:41:20.153Z"
   },
   {
    "duration": 42,
    "start_time": "2024-06-21T13:41:23.263Z"
   },
   {
    "duration": 34,
    "start_time": "2024-06-21T13:42:12.999Z"
   },
   {
    "duration": 29,
    "start_time": "2024-06-21T13:42:16.650Z"
   },
   {
    "duration": 57,
    "start_time": "2024-06-21T13:44:43.600Z"
   },
   {
    "duration": 36,
    "start_time": "2024-06-21T13:45:59.434Z"
   },
   {
    "duration": 8,
    "start_time": "2024-06-21T13:46:55.188Z"
   },
   {
    "duration": 30,
    "start_time": "2024-06-21T13:47:05.544Z"
   },
   {
    "duration": 51,
    "start_time": "2024-06-21T13:47:28.358Z"
   },
   {
    "duration": 45,
    "start_time": "2024-06-21T13:47:30.593Z"
   },
   {
    "duration": 30,
    "start_time": "2024-06-21T13:47:32.825Z"
   },
   {
    "duration": 33,
    "start_time": "2024-06-21T13:47:34.797Z"
   },
   {
    "duration": 44,
    "start_time": "2024-06-21T13:47:38.691Z"
   },
   {
    "duration": 312,
    "start_time": "2024-06-21T13:48:41.788Z"
   },
   {
    "duration": 333,
    "start_time": "2024-06-21T13:48:52.158Z"
   },
   {
    "duration": 7,
    "start_time": "2024-06-21T13:49:16.953Z"
   },
   {
    "duration": 224,
    "start_time": "2024-06-21T13:49:21.068Z"
   },
   {
    "duration": 9,
    "start_time": "2024-06-21T13:54:43.972Z"
   },
   {
    "duration": 10,
    "start_time": "2024-06-21T13:54:59.514Z"
   },
   {
    "duration": 9,
    "start_time": "2024-06-21T13:55:24.582Z"
   },
   {
    "duration": 10,
    "start_time": "2024-06-21T13:55:52.276Z"
   },
   {
    "duration": 11,
    "start_time": "2024-06-21T13:56:12.299Z"
   },
   {
    "duration": 16,
    "start_time": "2024-06-21T14:19:32.905Z"
   },
   {
    "duration": 14,
    "start_time": "2024-06-21T14:19:46.342Z"
   },
   {
    "duration": 14,
    "start_time": "2024-06-21T14:20:21.467Z"
   },
   {
    "duration": 5643,
    "start_time": "2024-06-21T14:25:12.744Z"
   },
   {
    "duration": 1285,
    "start_time": "2024-06-21T14:51:16.670Z"
   },
   {
    "duration": 35,
    "start_time": "2024-06-21T14:52:10.903Z"
   },
   {
    "duration": 11,
    "start_time": "2024-06-21T14:54:16.736Z"
   },
   {
    "duration": 1345,
    "start_time": "2024-06-21T14:56:40.393Z"
   },
   {
    "duration": 211,
    "start_time": "2024-06-21T14:56:47.289Z"
   },
   {
    "duration": 266,
    "start_time": "2024-06-21T15:15:48.466Z"
   },
   {
    "duration": 269,
    "start_time": "2024-06-21T15:16:02.566Z"
   },
   {
    "duration": 417,
    "start_time": "2024-06-21T15:17:08.408Z"
   },
   {
    "duration": 247,
    "start_time": "2024-06-21T15:17:24.140Z"
   },
   {
    "duration": 279,
    "start_time": "2024-06-21T15:17:39.155Z"
   },
   {
    "duration": 267,
    "start_time": "2024-06-21T15:17:53.616Z"
   },
   {
    "duration": 263,
    "start_time": "2024-06-21T15:18:10.539Z"
   },
   {
    "duration": 266,
    "start_time": "2024-06-21T15:18:29.852Z"
   },
   {
    "duration": 6256,
    "start_time": "2024-06-21T15:22:37.493Z"
   },
   {
    "duration": 5987,
    "start_time": "2024-06-21T15:22:56.552Z"
   },
   {
    "duration": 6460,
    "start_time": "2024-06-21T15:23:21.772Z"
   },
   {
    "duration": 4144,
    "start_time": "2024-06-21T15:25:12.072Z"
   },
   {
    "duration": 5876,
    "start_time": "2024-06-21T15:27:41.448Z"
   },
   {
    "duration": 15,
    "start_time": "2024-06-21T15:32:20.479Z"
   },
   {
    "duration": 14,
    "start_time": "2024-06-21T15:33:13.140Z"
   },
   {
    "duration": 255,
    "start_time": "2024-06-21T15:34:16.002Z"
   },
   {
    "duration": 32,
    "start_time": "2024-06-21T15:34:21.278Z"
   },
   {
    "duration": 33,
    "start_time": "2024-06-21T15:34:38.115Z"
   },
   {
    "duration": 18,
    "start_time": "2024-06-21T15:35:30.041Z"
   },
   {
    "duration": 308,
    "start_time": "2024-06-21T15:41:21.430Z"
   },
   {
    "duration": 6127,
    "start_time": "2024-06-21T15:47:53.687Z"
   },
   {
    "duration": 85,
    "start_time": "2024-06-21T15:50:55.952Z"
   },
   {
    "duration": 38,
    "start_time": "2024-06-21T15:51:22.573Z"
   },
   {
    "duration": 14,
    "start_time": "2024-06-21T15:51:45.814Z"
   },
   {
    "duration": 14,
    "start_time": "2024-06-21T15:52:33.763Z"
   },
   {
    "duration": 232,
    "start_time": "2024-06-21T15:54:21.359Z"
   },
   {
    "duration": 15,
    "start_time": "2024-06-21T16:08:44.049Z"
   },
   {
    "duration": 13,
    "start_time": "2024-06-21T16:11:07.612Z"
   },
   {
    "duration": 16,
    "start_time": "2024-06-21T16:11:49.048Z"
   },
   {
    "duration": 267,
    "start_time": "2024-06-21T16:13:40.871Z"
   },
   {
    "duration": 12,
    "start_time": "2024-06-21T16:16:44.123Z"
   },
   {
    "duration": 216,
    "start_time": "2024-06-21T16:18:12.066Z"
   },
   {
    "duration": 14,
    "start_time": "2024-06-21T16:36:28.905Z"
   },
   {
    "duration": 12,
    "start_time": "2024-06-21T16:38:46.601Z"
   },
   {
    "duration": 14,
    "start_time": "2024-06-21T16:48:45.001Z"
   },
   {
    "duration": 18,
    "start_time": "2024-06-21T16:49:04.352Z"
   },
   {
    "duration": 617,
    "start_time": "2024-06-21T16:52:55.188Z"
   },
   {
    "duration": 35,
    "start_time": "2024-06-21T16:53:28.093Z"
   },
   {
    "duration": 13,
    "start_time": "2024-06-21T16:53:33.976Z"
   },
   {
    "duration": 6,
    "start_time": "2024-06-21T16:56:07.216Z"
   },
   {
    "duration": 252,
    "start_time": "2024-06-21T16:56:36.959Z"
   },
   {
    "duration": 8,
    "start_time": "2024-06-21T16:57:10.934Z"
   },
   {
    "duration": 6,
    "start_time": "2024-06-21T16:57:37.476Z"
   },
   {
    "duration": 5,
    "start_time": "2024-06-21T16:57:47.386Z"
   },
   {
    "duration": 5,
    "start_time": "2024-06-21T16:59:35.343Z"
   },
   {
    "duration": 6,
    "start_time": "2024-06-21T16:59:43.738Z"
   },
   {
    "duration": 6,
    "start_time": "2024-06-21T17:04:18.306Z"
   },
   {
    "duration": 6,
    "start_time": "2024-06-21T17:04:24.377Z"
   },
   {
    "duration": 14,
    "start_time": "2024-06-21T17:04:31.157Z"
   },
   {
    "duration": 12,
    "start_time": "2024-06-21T19:11:24.429Z"
   },
   {
    "duration": 13,
    "start_time": "2024-06-21T19:16:51.073Z"
   },
   {
    "duration": 39,
    "start_time": "2024-06-21T19:38:03.154Z"
   },
   {
    "duration": 40,
    "start_time": "2024-06-21T19:38:37.139Z"
   },
   {
    "duration": 44,
    "start_time": "2024-06-21T19:39:08.310Z"
   },
   {
    "duration": 270,
    "start_time": "2024-06-21T19:40:23.641Z"
   },
   {
    "duration": 297,
    "start_time": "2024-06-21T19:41:04.268Z"
   },
   {
    "duration": 13,
    "start_time": "2024-06-21T19:41:20.632Z"
   },
   {
    "duration": 244,
    "start_time": "2024-06-21T19:41:27.824Z"
   },
   {
    "duration": 6773,
    "start_time": "2024-06-21T19:41:34.329Z"
   },
   {
    "duration": 11,
    "start_time": "2024-06-21T19:41:47.182Z"
   },
   {
    "duration": 211,
    "start_time": "2024-06-21T19:41:49.817Z"
   },
   {
    "duration": 280,
    "start_time": "2024-06-21T19:43:20.317Z"
   },
   {
    "duration": 11,
    "start_time": "2024-06-21T19:43:26.724Z"
   },
   {
    "duration": 283,
    "start_time": "2024-06-21T19:43:32.798Z"
   },
   {
    "duration": 405,
    "start_time": "2024-06-21T19:44:25.977Z"
   },
   {
    "duration": 12,
    "start_time": "2024-06-21T19:45:07.761Z"
   },
   {
    "duration": 267,
    "start_time": "2024-06-21T19:45:19.632Z"
   },
   {
    "duration": 15,
    "start_time": "2024-06-21T19:45:42.918Z"
   },
   {
    "duration": 7,
    "start_time": "2024-06-21T19:49:27.288Z"
   },
   {
    "duration": 81,
    "start_time": "2024-06-21T19:51:39.643Z"
   },
   {
    "duration": 17,
    "start_time": "2024-06-21T19:51:55.886Z"
   },
   {
    "duration": 29,
    "start_time": "2024-06-21T19:52:54.339Z"
   },
   {
    "duration": 14,
    "start_time": "2024-06-21T19:52:58.820Z"
   },
   {
    "duration": 31,
    "start_time": "2024-06-21T19:54:33.857Z"
   },
   {
    "duration": 22,
    "start_time": "2024-06-21T19:54:41.985Z"
   },
   {
    "duration": 13,
    "start_time": "2024-06-21T19:58:51.921Z"
   },
   {
    "duration": 12,
    "start_time": "2024-06-21T19:59:07.518Z"
   },
   {
    "duration": 16,
    "start_time": "2024-06-21T20:00:50.625Z"
   },
   {
    "duration": 24,
    "start_time": "2024-06-21T20:01:10.773Z"
   },
   {
    "duration": 22,
    "start_time": "2024-06-21T20:01:39.794Z"
   },
   {
    "duration": 27,
    "start_time": "2024-06-21T20:02:02.671Z"
   },
   {
    "duration": 30,
    "start_time": "2024-06-21T20:06:21.197Z"
   },
   {
    "duration": 22,
    "start_time": "2024-06-21T20:06:45.406Z"
   },
   {
    "duration": 54,
    "start_time": "2024-06-21T20:17:11.752Z"
   },
   {
    "duration": 771,
    "start_time": "2024-06-21T20:20:09.353Z"
   },
   {
    "duration": 8,
    "start_time": "2024-06-21T20:20:57.102Z"
   },
   {
    "duration": 64,
    "start_time": "2024-06-21T20:21:06.366Z"
   },
   {
    "duration": 281,
    "start_time": "2024-06-21T20:21:41.499Z"
   },
   {
    "duration": 275,
    "start_time": "2024-06-21T20:22:24.693Z"
   },
   {
    "duration": 277,
    "start_time": "2024-06-21T20:22:44.315Z"
   },
   {
    "duration": 264,
    "start_time": "2024-06-21T20:23:35.221Z"
   },
   {
    "duration": 6092,
    "start_time": "2024-06-21T20:27:41.257Z"
   },
   {
    "duration": 13,
    "start_time": "2024-06-21T20:32:45.833Z"
   },
   {
    "duration": 17,
    "start_time": "2024-06-21T20:33:29.445Z"
   },
   {
    "duration": 14,
    "start_time": "2024-06-21T20:33:44.564Z"
   },
   {
    "duration": 19,
    "start_time": "2024-06-21T20:51:09.175Z"
   },
   {
    "duration": 20,
    "start_time": "2024-06-21T20:51:21.261Z"
   },
   {
    "duration": 20,
    "start_time": "2024-06-21T20:51:31.325Z"
   },
   {
    "duration": 20,
    "start_time": "2024-06-21T20:51:47.887Z"
   },
   {
    "duration": 21,
    "start_time": "2024-06-21T20:55:06.163Z"
   },
   {
    "duration": 49,
    "start_time": "2024-06-21T21:00:28.182Z"
   },
   {
    "duration": 4720,
    "start_time": "2024-06-23T19:13:09.552Z"
   },
   {
    "duration": 386,
    "start_time": "2024-06-23T19:13:17.382Z"
   },
   {
    "duration": 32,
    "start_time": "2024-06-23T19:13:20.692Z"
   },
   {
    "duration": 9,
    "start_time": "2024-06-23T19:13:22.989Z"
   },
   {
    "duration": 11,
    "start_time": "2024-06-23T19:13:25.218Z"
   },
   {
    "duration": 14,
    "start_time": "2024-06-23T19:19:59.412Z"
   },
   {
    "duration": 11,
    "start_time": "2024-06-23T19:20:05.245Z"
   },
   {
    "duration": 22,
    "start_time": "2024-06-23T19:20:09.253Z"
   },
   {
    "duration": 25,
    "start_time": "2024-06-23T19:20:13.089Z"
   },
   {
    "duration": 26,
    "start_time": "2024-06-23T19:20:15.959Z"
   },
   {
    "duration": 11,
    "start_time": "2024-06-23T19:20:18.371Z"
   },
   {
    "duration": 68,
    "start_time": "2024-06-23T19:20:21.948Z"
   },
   {
    "duration": 210,
    "start_time": "2024-06-23T19:20:26.601Z"
   },
   {
    "duration": 39,
    "start_time": "2024-06-23T19:23:22.900Z"
   },
   {
    "duration": 98,
    "start_time": "2024-06-23T19:30:21.053Z"
   },
   {
    "duration": 117,
    "start_time": "2024-06-23T19:30:37.881Z"
   },
   {
    "duration": 101,
    "start_time": "2024-06-23T19:34:28.035Z"
   },
   {
    "duration": 112,
    "start_time": "2024-06-23T19:34:34.660Z"
   },
   {
    "duration": 99,
    "start_time": "2024-06-23T19:35:16.783Z"
   },
   {
    "duration": 21,
    "start_time": "2024-06-23T19:35:30.701Z"
   },
   {
    "duration": 9,
    "start_time": "2024-06-23T19:35:33.500Z"
   },
   {
    "duration": 34,
    "start_time": "2024-06-23T19:35:42.500Z"
   },
   {
    "duration": 108,
    "start_time": "2024-06-23T19:35:44.740Z"
   },
   {
    "duration": 26,
    "start_time": "2024-06-23T19:35:47.876Z"
   },
   {
    "duration": 11,
    "start_time": "2024-06-23T19:36:07.189Z"
   },
   {
    "duration": 68,
    "start_time": "2024-06-23T19:36:10.302Z"
   },
   {
    "duration": 152,
    "start_time": "2024-06-23T19:36:12.398Z"
   },
   {
    "duration": 8,
    "start_time": "2024-06-23T19:37:07.751Z"
   },
   {
    "duration": 40,
    "start_time": "2024-06-23T19:37:12.486Z"
   },
   {
    "duration": 32,
    "start_time": "2024-06-23T19:38:09.437Z"
   },
   {
    "duration": 41,
    "start_time": "2024-06-23T19:38:32.353Z"
   },
   {
    "duration": 34,
    "start_time": "2024-06-23T19:40:05.782Z"
   },
   {
    "duration": 32,
    "start_time": "2024-06-23T19:40:25.716Z"
   },
   {
    "duration": 40,
    "start_time": "2024-06-23T19:40:53.352Z"
   },
   {
    "duration": 47,
    "start_time": "2024-06-23T19:41:47.307Z"
   },
   {
    "duration": 303,
    "start_time": "2024-06-23T19:47:23.600Z"
   },
   {
    "duration": 304,
    "start_time": "2024-06-23T19:47:26.181Z"
   },
   {
    "duration": 12,
    "start_time": "2024-06-23T19:47:29.342Z"
   },
   {
    "duration": 243,
    "start_time": "2024-06-23T19:47:31.710Z"
   },
   {
    "duration": 5718,
    "start_time": "2024-06-23T19:47:35.733Z"
   },
   {
    "duration": 10,
    "start_time": "2024-06-23T19:47:41.455Z"
   },
   {
    "duration": 10,
    "start_time": "2024-06-23T19:47:45.002Z"
   },
   {
    "duration": 214,
    "start_time": "2024-06-23T19:47:47.574Z"
   },
   {
    "duration": 282,
    "start_time": "2024-06-23T19:47:51.130Z"
   },
   {
    "duration": 16,
    "start_time": "2024-06-23T19:47:54.649Z"
   },
   {
    "duration": 369,
    "start_time": "2024-06-23T19:47:56.373Z"
   },
   {
    "duration": 277,
    "start_time": "2024-06-23T19:47:59.704Z"
   },
   {
    "duration": 307,
    "start_time": "2024-06-23T19:48:52.747Z"
   },
   {
    "duration": 1767,
    "start_time": "2024-06-23T19:52:25.810Z"
   },
   {
    "duration": 279,
    "start_time": "2024-06-23T19:52:38.257Z"
   },
   {
    "duration": 42,
    "start_time": "2024-06-23T19:55:55.193Z"
   },
   {
    "duration": 284,
    "start_time": "2024-06-23T19:58:14.844Z"
   },
   {
    "duration": 316,
    "start_time": "2024-06-23T19:58:18.440Z"
   },
   {
    "duration": 12,
    "start_time": "2024-06-23T19:58:23.076Z"
   },
   {
    "duration": 5928,
    "start_time": "2024-06-23T19:58:27.656Z"
   },
   {
    "duration": 21,
    "start_time": "2024-06-23T19:58:33.588Z"
   },
   {
    "duration": 11,
    "start_time": "2024-06-23T19:58:36.311Z"
   },
   {
    "duration": 454,
    "start_time": "2024-06-23T19:58:39.437Z"
   },
   {
    "duration": 232,
    "start_time": "2024-06-23T19:58:43.707Z"
   },
   {
    "duration": 282,
    "start_time": "2024-06-23T19:58:48.285Z"
   },
   {
    "duration": 10,
    "start_time": "2024-06-23T19:59:10.487Z"
   },
   {
    "duration": 224,
    "start_time": "2024-06-23T19:59:21.797Z"
   },
   {
    "duration": 17,
    "start_time": "2024-06-23T20:00:15.885Z"
   },
   {
    "duration": 24,
    "start_time": "2024-06-23T20:01:45.492Z"
   },
   {
    "duration": 21,
    "start_time": "2024-06-23T20:01:56.186Z"
   },
   {
    "duration": 15,
    "start_time": "2024-06-23T20:02:55.775Z"
   }
  ],
  "colab": {
   "provenance": []
  },
  "kernelspec": {
   "display_name": "Python 3 (ipykernel)",
   "language": "python",
   "name": "python3"
  },
  "language_info": {
   "codemirror_mode": {
    "name": "ipython",
    "version": 3
   },
   "file_extension": ".py",
   "mimetype": "text/x-python",
   "name": "python",
   "nbconvert_exporter": "python",
   "pygments_lexer": "ipython3",
   "version": "3.9.19"
  },
  "toc": {
   "base_numbering": 1,
   "nav_menu": {},
   "number_sections": true,
   "sideBar": true,
   "skip_h1_title": false,
   "title_cell": "Table of Contents",
   "title_sidebar": "Contents",
   "toc_cell": false,
   "toc_position": {},
   "toc_section_display": true,
   "toc_window_display": false
  }
 },
 "nbformat": 4,
 "nbformat_minor": 1
}
